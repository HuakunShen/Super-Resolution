{
 "cells": [
  {
   "cell_type": "markdown",
   "metadata": {},
   "source": [
    "## MNIST CNN"
   ]
  },
  {
   "cell_type": "code",
   "execution_count": 1,
   "metadata": {},
   "outputs": [],
   "source": [
    "%reload_ext autoreload\n",
    "%autoreload 2\n",
    "%matplotlib inline"
   ]
  },
  {
   "cell_type": "code",
   "execution_count": 2,
   "metadata": {},
   "outputs": [],
   "source": [
    "from fastai.vision import * \n",
    "from fastai import *"
   ]
  },
  {
   "cell_type": "markdown",
   "metadata": {},
   "source": [
    "### Data"
   ]
  },
  {
   "cell_type": "code",
   "execution_count": 3,
   "metadata": {},
   "outputs": [
    {
     "output_type": "stream",
     "name": "stdout",
     "text": [
      "Downloading https://s3.amazonaws.com/fast-ai-imageclas/mnist_png.tgz\n"
     ]
    },
    {
     "output_type": "display_data",
     "data": {
      "text/plain": "<IPython.core.display.HTML object>",
      "text/html": "\n    <div>\n        <style>\n            /* Turns off some styling */\n            progress {\n                /* gets rid of default border in Firefox and Opera. */\n                border: none;\n                /* Needs to be in here for Safari polyfill so background images work as expected. */\n                background-size: auto;\n            }\n            .progress-bar-interrupted, .progress-bar-interrupted::-webkit-progress-bar {\n                background: #F44336;\n            }\n        </style>\n      <progress value='0' class='' max='15683414' style='width:300px; height:20px; vertical-align: middle;'></progress>\n      \n    </div>\n    "
     },
     "metadata": {}
    }
   ],
   "source": [
    "path = untar_data(URLs.MNIST)"
   ]
  },
  {
   "cell_type": "code",
   "execution_count": 4,
   "metadata": {},
   "outputs": [
    {
     "output_type": "execute_result",
     "data": {
      "text/plain": [
       "[WindowsPath('C:/Users/shenh/.fastai/data/mnist_png/testing'),\n",
       " WindowsPath('C:/Users/shenh/.fastai/data/mnist_png/training')]"
      ]
     },
     "metadata": {},
     "execution_count": 4
    }
   ],
   "source": [
    "path.ls()"
   ]
  },
  {
   "cell_type": "code",
   "execution_count": 5,
   "metadata": {},
   "outputs": [],
   "source": [
    "il = ImageList.from_folder(path, convert_mode='L')"
   ]
  },
  {
   "cell_type": "code",
   "execution_count": 6,
   "metadata": {},
   "outputs": [
    {
     "output_type": "execute_result",
     "data": {
      "text/plain": [
       "WindowsPath('C:/Users/shenh/.fastai/data/mnist_png/testing/0/10.png')"
      ]
     },
     "metadata": {},
     "execution_count": 6
    }
   ],
   "source": [
    "il.items[0]"
   ]
  },
  {
   "cell_type": "code",
   "execution_count": 7,
   "metadata": {},
   "outputs": [],
   "source": [
    "defaults.cmap='binary'"
   ]
  },
  {
   "cell_type": "code",
   "execution_count": 8,
   "metadata": {},
   "outputs": [
    {
     "output_type": "execute_result",
     "data": {
      "text/plain": [
       "ImageList (70000 items)\n",
       "Image (1, 28, 28),Image (1, 28, 28),Image (1, 28, 28),Image (1, 28, 28),Image (1, 28, 28)\n",
       "Path: C:\\Users\\shenh\\.fastai\\data\\mnist_png"
      ]
     },
     "metadata": {},
     "execution_count": 8
    }
   ],
   "source": [
    "il"
   ]
  },
  {
   "cell_type": "code",
   "execution_count": 9,
   "metadata": {},
   "outputs": [
    {
     "output_type": "display_data",
     "data": {
      "text/plain": "<Figure size 216x216 with 1 Axes>",
      "image/svg+xml": "<?xml version=\"1.0\" encoding=\"utf-8\" standalone=\"no\"?>\r\n<!DOCTYPE svg PUBLIC \"-//W3C//DTD SVG 1.1//EN\"\r\n  \"http://www.w3.org/Graphics/SVG/1.1/DTD/svg11.dtd\">\r\n<!-- Created with matplotlib (https://matplotlib.org/) -->\r\n<svg height=\"177.48pt\" version=\"1.1\" viewBox=\"0 0 177.48 177.48\" width=\"177.48pt\" xmlns=\"http://www.w3.org/2000/svg\" xmlns:xlink=\"http://www.w3.org/1999/xlink\">\r\n <metadata>\r\n  <rdf:RDF xmlns:cc=\"http://creativecommons.org/ns#\" xmlns:dc=\"http://purl.org/dc/elements/1.1/\" xmlns:rdf=\"http://www.w3.org/1999/02/22-rdf-syntax-ns#\">\r\n   <cc:Work>\r\n    <dc:type rdf:resource=\"http://purl.org/dc/dcmitype/StillImage\"/>\r\n    <dc:date>2020-12-03T00:53:30.313961</dc:date>\r\n    <dc:format>image/svg+xml</dc:format>\r\n    <dc:creator>\r\n     <cc:Agent>\r\n      <dc:title>Matplotlib v3.3.2, https://matplotlib.org/</dc:title>\r\n     </cc:Agent>\r\n    </dc:creator>\r\n   </cc:Work>\r\n  </rdf:RDF>\r\n </metadata>\r\n <defs>\r\n  <style type=\"text/css\">*{stroke-linecap:butt;stroke-linejoin:round;}</style>\r\n </defs>\r\n <g id=\"figure_1\">\r\n  <g id=\"patch_1\">\r\n   <path d=\"M 0 177.48 \r\nL 177.48 177.48 \r\nL 177.48 0 \r\nL 0 0 \r\nz\r\n\" style=\"fill:none;\"/>\r\n  </g>\r\n  <g id=\"axes_1\">\r\n   <g clip-path=\"url(#pe6574002e9)\">\r\n    <image height=\"164\" id=\"image410b8d1eba\" transform=\"scale(1 -1)translate(0 -164)\" width=\"164\" x=\"7.2\" xlink:href=\"data:image/png;base64,\r\niVBORw0KGgoAAAANSUhEUgAAAKQAAACkCAYAAAAZtYVBAAAFJ0lEQVR4nO3dPSj1bxzHcQcljqQ8lJhkISkMnmNUHoqUxOyhTBjEoBjEJoWRDAzKQgwcQiRFsbDIINOZjlGce/gv/zrfX53j/h3n83O/X+On03EN76660u32hcPhcBIgIjnRBwD+jyAhhSAhhSAhhSAhhSAhhSAhhSAhhSAhhSAhhSAhhSAhhSAhhSAhhSAhhSAhhSAhhSAhhSAhhSAhhSAhhSAhJTXRB/gbb29v5t7a2mruDw8P8TyOaXBw0NwrKyvNfXh4OJ7HkccNCSkECSkECSkECSkECSk+L/yxqd3dXXOfm5sz97u7u3gexxXJyfZdkJOTE7GNjY2Zn52cnHT1TAq4ISGFICGFICGFICGFICHFE6/s0tJSc398fDT3qqoqcy8oKHDtTNG6vr4292AwGPV35OXlmXtHR4e5Ly8vm3tGRkbUPzNRuCEhhSAhhSAhhSAhhSAhxdOvbJ/PZ+5nZ2fmnpub69qZonV/f2/uKysr5n57exux3dzcxPQzT09Pzb25uTmm70kEbkhIIUhIIUhIIUhIIUhIkXplBwIBc+/q6jL3srIyc7+6unLtTD/t8/MzYhsYGDA/u729be5FRUXmvrOzY+41NTVRni7+uCEhhSAhhSAhhSAhhSAhReqvn728vJh7KBT62YMkUEpKSsQ2MTFhftbpd/lbW1vm7vQ9Jycn5p6a+vN5cENCCkFCCkFCCkFCCkFCitQrG7bq6mpzHx8fN/eDgwNzv7i4MPfDw0Nzb29vj+J07uKGhBSChBSChBSChBQeNR7m9Nhx+iNUm5ub5j49PW3uPGrwzyNISCFISCFISCFISJF6Zff29pr7/Pz8D5/E2zo7O83d6ZX98fERz+PEhBsSUggSUggSUggSUggSUqRe2X6/39wT8c8xkRjckJBCkJBCkJBCkJBCkJDi6eer039P7PTPPRsbG+N5HLiAGxJSCBJSCBJSCBJSCBJSPPHK7uvrM/eZmRlzX1paMnde2fq4ISGFICGFICGFICGFICHFE69sp/+ed2Njw9yPjo7M/fLyMmKrr6///sHgOm5ISCFISCFISCFISCFISPHEK7u4uNjcCwsLzf35+dncHx4eIrbf+MoOBAKJPsK3cUNCCkFCCkFCCkFCiiceNU7m5ubMvaWlxdyvr68jtqGhITePJMHpf3d1UltbG6eTxI4bElIIElIIElIIElIIElI8/cpOS0uL6fPr6+sRW1VVlfnZ0dHR7xzpR01NTZn76+trTN/T3d3txnFcwQ0JKQQJKQQJKQQJKQQJKZ5+ZWdmZpp7bm6uuQeDwYhtcXHR/Gx5ebm5l5SUmHt2dra5O53RydfXV8Q2OztrfnZhYSHq70hKSkrq6uoy94aGhihPF3/ckJBCkJBCkJBCkJBCkJDiC4fD4UQfwm0jIyPmvra29tffXVpaau75+fnmnpWVFdP3Wy/k/f39mL7D6Ween5+be0VFRUzfH0/ckJBCkJBCkJBCkJBCkJDyK1/ZoVDI3Pv7+yO24+Nj87Pp6enm/vHxYe7v7+9Rni52Tmfx+/3mvrq6au49PT2unSleuCEhhSAhhSAhhSAhhSAh5Ve+smPh9Ptdpz/1/PT0ZO57e3vm7vR76La2tihO95+6ujpzb2pqivo7vIIbElIIElIIElIIElIIElL++Vc2tHBDQgpBQgpBQgpBQgpBQgpBQgpBQgpBQgpBQgpBQgpBQgpBQgpBQgpBQgpBQgpBQgpBQgpBQgpBQgpBQgpBQgpBQsofujfqAcY8XGwAAAAASUVORK5CYII=\" y=\"-6.28\"/>\r\n   </g>\r\n  </g>\r\n </g>\r\n <defs>\r\n  <clipPath id=\"pe6574002e9\">\r\n   <rect height=\"163.08\" width=\"163.08\" x=\"7.2\" y=\"7.2\"/>\r\n  </clipPath>\r\n </defs>\r\n</svg>\r\n",
      "image/png": "[encoded data removed]"
     },
     "metadata": {
      "needs_background": "light"
     }
    }
   ],
   "source": [
    "il[0].show()"
   ]
  },
  {
   "cell_type": "code",
   "execution_count": 10,
   "metadata": {},
   "outputs": [],
   "source": [
    "sd = il.split_by_folder(train='training', valid='testing')"
   ]
  },
  {
   "cell_type": "code",
   "execution_count": 11,
   "metadata": {},
   "outputs": [
    {
     "output_type": "execute_result",
     "data": {
      "text/plain": [
       "ItemLists;\n",
       "\n",
       "Train: ImageList (60000 items)\n",
       "Image (1, 28, 28),Image (1, 28, 28),Image (1, 28, 28),Image (1, 28, 28),Image (1, 28, 28)\n",
       "Path: C:\\Users\\shenh\\.fastai\\data\\mnist_png;\n",
       "\n",
       "Valid: ImageList (10000 items)\n",
       "Image (1, 28, 28),Image (1, 28, 28),Image (1, 28, 28),Image (1, 28, 28),Image (1, 28, 28)\n",
       "Path: C:\\Users\\shenh\\.fastai\\data\\mnist_png;\n",
       "\n",
       "Test: None"
      ]
     },
     "metadata": {},
     "execution_count": 11
    }
   ],
   "source": [
    "sd"
   ]
  },
  {
   "cell_type": "code",
   "execution_count": 12,
   "metadata": {},
   "outputs": [
    {
     "output_type": "execute_result",
     "data": {
      "text/plain": [
       "[WindowsPath('C:/Users/shenh/.fastai/data/mnist_png/training/0'),\n",
       " WindowsPath('C:/Users/shenh/.fastai/data/mnist_png/training/1'),\n",
       " WindowsPath('C:/Users/shenh/.fastai/data/mnist_png/training/2'),\n",
       " WindowsPath('C:/Users/shenh/.fastai/data/mnist_png/training/3'),\n",
       " WindowsPath('C:/Users/shenh/.fastai/data/mnist_png/training/4'),\n",
       " WindowsPath('C:/Users/shenh/.fastai/data/mnist_png/training/5'),\n",
       " WindowsPath('C:/Users/shenh/.fastai/data/mnist_png/training/6'),\n",
       " WindowsPath('C:/Users/shenh/.fastai/data/mnist_png/training/7'),\n",
       " WindowsPath('C:/Users/shenh/.fastai/data/mnist_png/training/8'),\n",
       " WindowsPath('C:/Users/shenh/.fastai/data/mnist_png/training/9')]"
      ]
     },
     "metadata": {},
     "execution_count": 12
    }
   ],
   "source": [
    "(path/'training').ls()"
   ]
  },
  {
   "cell_type": "code",
   "execution_count": 13,
   "metadata": {},
   "outputs": [],
   "source": [
    "ll = sd.label_from_folder()"
   ]
  },
  {
   "cell_type": "code",
   "execution_count": 14,
   "metadata": {},
   "outputs": [
    {
     "output_type": "execute_result",
     "data": {
      "text/plain": [
       "LabelLists;\n",
       "\n",
       "Train: LabelList (60000 items)\n",
       "x: ImageList\n",
       "Image (1, 28, 28),Image (1, 28, 28),Image (1, 28, 28),Image (1, 28, 28),Image (1, 28, 28)\n",
       "y: CategoryList\n",
       "0,0,0,0,0\n",
       "Path: C:\\Users\\shenh\\.fastai\\data\\mnist_png;\n",
       "\n",
       "Valid: LabelList (10000 items)\n",
       "x: ImageList\n",
       "Image (1, 28, 28),Image (1, 28, 28),Image (1, 28, 28),Image (1, 28, 28),Image (1, 28, 28)\n",
       "y: CategoryList\n",
       "0,0,0,0,0\n",
       "Path: C:\\Users\\shenh\\.fastai\\data\\mnist_png;\n",
       "\n",
       "Test: None"
      ]
     },
     "metadata": {},
     "execution_count": 14
    }
   ],
   "source": [
    "ll"
   ]
  },
  {
   "cell_type": "code",
   "execution_count": 15,
   "metadata": {},
   "outputs": [],
   "source": [
    "x,y = ll.train[0]"
   ]
  },
  {
   "cell_type": "code",
   "execution_count": 16,
   "metadata": {},
   "outputs": [
    {
     "output_type": "stream",
     "name": "stdout",
     "text": [
      "0 torch.Size([1, 28, 28])\n"
     ]
    },
    {
     "output_type": "display_data",
     "data": {
      "text/plain": "<Figure size 216x216 with 1 Axes>",
      "image/svg+xml": "<?xml version=\"1.0\" encoding=\"utf-8\" standalone=\"no\"?>\r\n<!DOCTYPE svg PUBLIC \"-//W3C//DTD SVG 1.1//EN\"\r\n  \"http://www.w3.org/Graphics/SVG/1.1/DTD/svg11.dtd\">\r\n<!-- Created with matplotlib (https://matplotlib.org/) -->\r\n<svg height=\"177.48pt\" version=\"1.1\" viewBox=\"0 0 177.48 177.48\" width=\"177.48pt\" xmlns=\"http://www.w3.org/2000/svg\" xmlns:xlink=\"http://www.w3.org/1999/xlink\">\r\n <metadata>\r\n  <rdf:RDF xmlns:cc=\"http://creativecommons.org/ns#\" xmlns:dc=\"http://purl.org/dc/elements/1.1/\" xmlns:rdf=\"http://www.w3.org/1999/02/22-rdf-syntax-ns#\">\r\n   <cc:Work>\r\n    <dc:type rdf:resource=\"http://purl.org/dc/dcmitype/StillImage\"/>\r\n    <dc:date>2020-12-03T00:54:42.915006</dc:date>\r\n    <dc:format>image/svg+xml</dc:format>\r\n    <dc:creator>\r\n     <cc:Agent>\r\n      <dc:title>Matplotlib v3.3.2, https://matplotlib.org/</dc:title>\r\n     </cc:Agent>\r\n    </dc:creator>\r\n   </cc:Work>\r\n  </rdf:RDF>\r\n </metadata>\r\n <defs>\r\n  <style type=\"text/css\">*{stroke-linecap:butt;stroke-linejoin:round;}</style>\r\n </defs>\r\n <g id=\"figure_1\">\r\n  <g id=\"patch_1\">\r\n   <path d=\"M 0 177.48 \r\nL 177.48 177.48 \r\nL 177.48 0 \r\nL 0 0 \r\nz\r\n\" style=\"fill:none;\"/>\r\n  </g>\r\n  <g id=\"axes_1\">\r\n   <g clip-path=\"url(#p07a2b24980)\">\r\n    <image height=\"164\" id=\"image2144a00c97\" transform=\"scale(1 -1)translate(0 -164)\" width=\"164\" x=\"7.2\" xlink:href=\"data:image/png;base64,\r\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\" y=\"-6.28\"/>\r\n   </g>\r\n  </g>\r\n </g>\r\n <defs>\r\n  <clipPath id=\"p07a2b24980\">\r\n   <rect height=\"163.08\" width=\"163.08\" x=\"7.2\" y=\"7.2\"/>\r\n  </clipPath>\r\n </defs>\r\n</svg>\r\n",
      "image/png": "[encoded data removed]"
     },
     "metadata": {
      "needs_background": "light"
     }
    }
   ],
   "source": [
    "x.show()\n",
    "print(y,x.shape)"
   ]
  },
  {
   "cell_type": "code",
   "execution_count": 17,
   "metadata": {},
   "outputs": [],
   "source": [
    "tfms = ([*rand_pad(padding=3, size=28, mode='zeros')], [])"
   ]
  },
  {
   "cell_type": "code",
   "execution_count": 18,
   "metadata": {},
   "outputs": [],
   "source": [
    "ll = ll.transform(tfms)"
   ]
  },
  {
   "cell_type": "code",
   "execution_count": 20,
   "metadata": {},
   "outputs": [],
   "source": [
    "bs = 128"
   ]
  },
  {
   "cell_type": "code",
   "execution_count": 21,
   "metadata": {},
   "outputs": [],
   "source": [
    "# not using imagenet_stats because not using pretrained model\n",
    "data = ll.databunch(bs=bs).normalize()"
   ]
  },
  {
   "cell_type": "code",
   "execution_count": 22,
   "metadata": {},
   "outputs": [],
   "source": [
    "x,y = data.train_ds[0]"
   ]
  },
  {
   "cell_type": "code",
   "execution_count": 23,
   "metadata": {},
   "outputs": [
    {
     "output_type": "stream",
     "name": "stdout",
     "text": [
      "0\n"
     ]
    },
    {
     "output_type": "display_data",
     "data": {
      "text/plain": "<Figure size 216x216 with 1 Axes>",
      "image/svg+xml": "<?xml version=\"1.0\" encoding=\"utf-8\" standalone=\"no\"?>\r\n<!DOCTYPE svg PUBLIC \"-//W3C//DTD SVG 1.1//EN\"\r\n  \"http://www.w3.org/Graphics/SVG/1.1/DTD/svg11.dtd\">\r\n<!-- Created with matplotlib (https://matplotlib.org/) -->\r\n<svg height=\"177.48pt\" version=\"1.1\" viewBox=\"0 0 177.48 177.48\" width=\"177.48pt\" xmlns=\"http://www.w3.org/2000/svg\" xmlns:xlink=\"http://www.w3.org/1999/xlink\">\r\n <metadata>\r\n  <rdf:RDF xmlns:cc=\"http://creativecommons.org/ns#\" xmlns:dc=\"http://purl.org/dc/elements/1.1/\" xmlns:rdf=\"http://www.w3.org/1999/02/22-rdf-syntax-ns#\">\r\n   <cc:Work>\r\n    <dc:type rdf:resource=\"http://purl.org/dc/dcmitype/StillImage\"/>\r\n    <dc:date>2020-12-03T00:56:59.212586</dc:date>\r\n    <dc:format>image/svg+xml</dc:format>\r\n    <dc:creator>\r\n     <cc:Agent>\r\n      <dc:title>Matplotlib v3.3.2, https://matplotlib.org/</dc:title>\r\n     </cc:Agent>\r\n    </dc:creator>\r\n   </cc:Work>\r\n  </rdf:RDF>\r\n </metadata>\r\n <defs>\r\n  <style type=\"text/css\">*{stroke-linecap:butt;stroke-linejoin:round;}</style>\r\n </defs>\r\n <g id=\"figure_1\">\r\n  <g id=\"patch_1\">\r\n   <path d=\"M 0 177.48 \r\nL 177.48 177.48 \r\nL 177.48 0 \r\nL 0 0 \r\nz\r\n\" style=\"fill:none;\"/>\r\n  </g>\r\n  <g id=\"axes_1\">\r\n   <g clip-path=\"url(#p7c51c81afd)\">\r\n    <image height=\"164\" id=\"image4297ff2ec8\" transform=\"scale(1 -1)translate(0 -164)\" width=\"164\" x=\"7.2\" xlink:href=\"data:image/png;base64,\r\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\" y=\"-6.28\"/>\r\n   </g>\r\n  </g>\r\n </g>\r\n <defs>\r\n  <clipPath id=\"p7c51c81afd\">\r\n   <rect height=\"163.08\" width=\"163.08\" x=\"7.2\" y=\"7.2\"/>\r\n  </clipPath>\r\n </defs>\r\n</svg>\r\n",
      "image/png": "[encoded data removed]"
     },
     "metadata": {
      "needs_background": "light"
     }
    }
   ],
   "source": [
    "x.show()\n",
    "print(y)"
   ]
  },
  {
   "cell_type": "code",
   "execution_count": 24,
   "metadata": {},
   "outputs": [
    {
     "output_type": "display_data",
     "data": {
      "text/plain": "<Figure size 576x576 with 9 Axes>",
      "image/svg+xml": "<?xml version=\"1.0\" encoding=\"utf-8\" standalone=\"no\"?>\r\n<!DOCTYPE svg PUBLIC \"-//W3C//DTD SVG 1.1//EN\"\r\n  \"http://www.w3.org/Graphics/SVG/1.1/DTD/svg11.dtd\">\r\n<!-- Created with matplotlib (https://matplotlib.org/) -->\r\n<svg height=\"449.28pt\" version=\"1.1\" viewBox=\"0 0 457.411765 449.28\" width=\"457.411765pt\" xmlns=\"http://www.w3.org/2000/svg\" xmlns:xlink=\"http://www.w3.org/1999/xlink\">\r\n <metadata>\r\n  <rdf:RDF xmlns:cc=\"http://creativecommons.org/ns#\" xmlns:dc=\"http://purl.org/dc/elements/1.1/\" xmlns:rdf=\"http://www.w3.org/1999/02/22-rdf-syntax-ns#\">\r\n   <cc:Work>\r\n    <dc:type rdf:resource=\"http://purl.org/dc/dcmitype/StillImage\"/>\r\n    <dc:date>2020-12-03T00:56:59.541708</dc:date>\r\n    <dc:format>image/svg+xml</dc:format>\r\n    <dc:creator>\r\n     <cc:Agent>\r\n      <dc:title>Matplotlib v3.3.2, https://matplotlib.org/</dc:title>\r\n     </cc:Agent>\r\n    </dc:creator>\r\n   </cc:Work>\r\n  </rdf:RDF>\r\n </metadata>\r\n <defs>\r\n  <style type=\"text/css\">*{stroke-linecap:butt;stroke-linejoin:round;}</style>\r\n </defs>\r\n <g id=\"figure_1\">\r\n  <g id=\"patch_1\">\r\n   <path d=\"M 0 449.28 \r\nL 457.411765 449.28 \r\nL 457.411765 0 \r\nL 0 0 \r\nz\r\n\" style=\"fill:none;\"/>\r\n  </g>\r\n  <g id=\"axes_1\">\r\n   <g clip-path=\"url(#p2327e60bed)\">\r\n    <image height=\"128\" id=\"imageaa913f4481\" transform=\"scale(1 -1)translate(0 -128)\" width=\"128\" x=\"7.2\" xlink:href=\"data:image/png;base64,\r\niVBORw0KGgoAAAANSUhEUgAAAIAAAACACAYAAADDPmHLAAAE+UlEQVR4nO2dSyitXxjGP/9EUgyMyICBqUtySS5lKDO5FkN74pJrKYwMFTKQkoGUe5GQFCm3gUsZG7lLBi4phDP4j971rvL1Hba9z/P8Zs/qbe2V82udt2+t/e0Qx3E+HQLLf7+9APK7UABwKAA4FACc0N9egBtiY2PVmM/nE7mzs1PVhISEiPz5qfvdgYEBNTY0NCTyycmJq3UGI9wBwKEA4FAAcEKcAHwQFB8fL/LMzIyqycjI+HIeNz2Ajbu7O5EnJydVTWNjo6u5Ah3uAOBQAHAoADgUAJyAbAJLS0tFnpiY8DTPzc2NyA8PD6omKSnJ09y7u7sib2xsqJru7m5Pc/sT7gDgUABwKAA4QXEYZOP9/V3k4eFhVTM6Oiqy+YDHcRwnOztbjVVXV4uckpKianJyckQ2H145ju4vbAdPe3t7asyfcAcAhwKAQwHAoQDgBGQTaJ7imdlxHOf6+lrkhoYGT591dnamxmynjyZNTU0id3V1qZqysjKR397eVA2bQPKrUABwKAA4AdkDmDd3bDd55ufn/bQaO319fSLbDoPa2tpErqqqUjWRkZFqrKSk5C9X5x7uAOBQAHAoADgUAJygvRFkPsBJTEz80TV5ITw8XGTb19c6OjrU2MXFhci1tbWqZnV19S9X9z/cAcChAOBQAHAoADgB+STQDWaDZXuHwNXVlb+WY+Xl5UXknp4eVRMaqv8J2tvbRW5paVE129vbIj89PXlZIncAdCgAOBQAnIB8EFRcXCzy9PS0qgkLCxO5tbVV1fT393/ruvyFeeXddhpqvseovr7e02dxBwCHAoBDAcChAOAEZBNosrOzo8aysrJE3tzcVDWFhYU/tqafxGz6Pj4+VI35N8nLy/P0WdwBwKEA4FAAcILiMKi5uVmNbW1tiZyfn69qCgoKRLb1CYGI+X++2xdceoE7ADgUABwKAA4FACcomsCjoyM1try8LHJRUZGqWVhYELm8vFzV7O/vq7GIiAiRz8/PXa0zGOEOAA4FAIcCgBMUPYB5u9Zx9A2gx8dHVVNRUSHy2NiYqrHdHDZv787Ozrpapz85PT39lnm4A4BDAcChAOBQAHCC4kaQG1JTU9XY+vq6yFFRUa7mWllZEbmyslLVmCeNycnJqmZkZETk29tbV59vXgt/fn7+8vMPDw9dzW3CHQAcCgAOBQCHAoDzzzSBNtLT00VeW1tTNdHR0V/OY7tKtri4KHJvb6+quby8FNn8zqPjOE5CQoIaM9+COjU1pWrMp5xe4Q4ADgUAhwKAExSngV45ODgQeWlpSdXYHvKYuLlybru6bb63KC0tTdWYP1HnOLwWTvwIBQCHAoBDAcD5p5tAE5/Pp8Zsvzk8Pj4usu13gd1gntDZXuZoNpM2jo+PPX2+G7gDgEMBwKEA4PzTh0FeyczMFHlubk7VxMXFiWx7WGNeVX99fVU1MTExaiw3N1dk220f21xe4A4ADgUAhwKAQwHAYRPogu+8cm5yf3+vxmyN4U/BHQAcCgAOBQCHPYBHzBvHdXV1qqampkZk2/sJBgcH1ZjXr3l5gTsAOBQAHAoADgUAh00gONwBwKEA4FAAcCgAOBQAHAoADgUAhwKAQwHAoQDgUABwKAA4FAAcCgAOBQCHAoBDAcChAOBQAHAoADgUABwKAA4FAIcCgEMBwKEA4FAAcCgAOBQAHAoADgUA5w/vQjidhL1BrQAAAABJRU5ErkJggg==\" y=\"-7.105882\"/>\r\n   </g>\r\n  </g>\r\n  <g id=\"axes_2\">\r\n   <g clip-path=\"url(#p6911c9410d)\">\r\n    <image height=\"128\" id=\"imagecbec7f8a41\" transform=\"scale(1 -1)translate(0 -128)\" width=\"128\" x=\"164.752941\" xlink:href=\"data:image/png;base64,\r\niVBORw0KGgoAAAANSUhEUgAAAIAAAACACAYAAADDPmHLAAAE/UlEQVR4nO2dSyi8bxTHxz/RL8XCiixY2Lokl+RSlrKTa7E0G5dcS2FlqZCFlCyk3IuEpEi5LVzK2spdsnBJIfzX5zlPzdv7mzHzm+/3szun0/s+TZ/OPL3PmXciPB7Pj4fA8l+wF0CCCwUAhwKAQwHAoQDgUABwKAA4FACcSH9dKCEhQeW8Xq+Ie3p6VE1ERITK/fzIZ1PDw8OqZnR0VMTn5+eO1kkk7ADgUABwKAA4FACcCI/L08CkpCQRz8/Pq5rs7GzfC3CwCbTx+Pgo4pmZGVXT0tLi8zrosAOAQwHAoQDguN4DVFRUiHh6etrVAu7v71Xu+flZxKmpqa6ufXBwIOLt7W1V09fX5+ra4QI7ADgUABwKAA4FAMdvp4E2vr6+RDw2NqZqJiYmVM58yJOXl6dq6urqRJyenq5q8vPzRWw+vPJ47BtM8/Tx8PBQ1YQL7ADgUABwKAA4rvcA5iGO7VDn7u5OxM3Nza7udXl5qXK2wyeT1tZWEff29qqayspKlfv8/BQx9wAkbKEA4FAAcCgAOK43gebUjm2KZ2lpye3l/cLg4KCIbaeBnZ2dKldbWyvimJgYVVNeXv6XqwsN2AHAoQDgUABwKAA4AR0JM5/gpaSkuLlVQImOjlY58zeM3d3dqub6+lrEDQ0NqmZjY+MvVxd42AHAoQDgUABwAjoRZH6/2t4hcHt7G8gl+OT9/V3l+vv7RRwZqT+mrq4uEbe3t6uavb09Eb++vrpZYkBhBwCHAoBDAcChAOC4fhBUVlYm4rm5OVUTFRUl4o6ODlUzNDTk5vZBxxx5t52Gmi+yampqCuia3MAOAA4FAIcCgON6D2Cyv7+vcrm5uSLe2dlRNSUlJf64/a9jfud/f3+rGvMzKSwsDOia3MAOAA4FAIcCgEMBwPHbaWBbW5vK7e7uirioqEjVFBcXq5xtsxhqmJs+Jy+3DEXYAcChAOBQAHD8tgc4PT1VubW1NRGXlpaqmuXlZZWrqqoS8dHRkar58+ePiK+urhytk0jYAcChAOBQAHAoADh+2wTaxqvNCaCXlxdVU11drXKTk5Mito2Om6PbCwsLjtb5m1xcXAR7CT5hBwCHAoBDAcChAOD4bSTMCRkZGSq3tbWlcrGxsT6vtb6+LuKamhpVY540pqWlqZrx8XGVe3h48Hl/cyz87e3N5/1PTk58Xve3YQcAhwKAQwHA+dU9gI2srCyV29zcFHFcXJzP69imiFZWVkQ8MDCgam5ublTO/NlbcnKyqjFfgjk7O6tqbA+5Qg12AHAoADgUABwKAE5AXxLlhOPjY5VbXV0Vse0hj4mTkXPb6LbtxVWZmZkiNv+izuPhWDgJEygAOBQAnKDvAWx4vV4R2/5ydmpqSsS2v4V1gu2Axnyho+3nayZnZ2eu7h9s2AHAoQDgUABwKAA4QT8NdEtOTo6IFxcXVU1iYqKIbQ9rbKPqHx8fIo6Pj1c1BQUFIrZtJs3rhCLsAOBQAHAoADj/7B7AxMnEsZNpYxtPT08qZ9sX/IuwA4BDAcChAOBQAHDCZhNowxw5b2xsVDX19fUqZ76fYGRkRNWE4s+83MAOAA4FAIcCgEMBwAnrTSDxDTsAOBQAHAoADgUAhwKAQwHAoQDgUABwKAA4FAAcCgAOBQCHAoBDAcChAOBQAHAoADgUABwKAA4FAIcCgEMBwKEA4FAAcCgAOBQAnP8BhlI4nR+N4AoAAAAASUVORK5CYII=\" y=\"-7.105882\"/>\r\n   </g>\r\n  </g>\r\n  <g id=\"axes_3\">\r\n   <g clip-path=\"url(#pc15c2cd3c3)\">\r\n    <image height=\"128\" id=\"imaged68dd533da\" transform=\"scale(1 -1)translate(0 -128)\" width=\"128\" x=\"322.305882\" xlink:href=\"data:image/png;base64,\r\niVBORw0KGgoAAAANSUhEUgAAAIAAAACACAYAAADDPmHLAAAE8klEQVR4nO2dSSi9XxjHX/9EUiysyIKFrSEZkqEsZSdjsXQ3hoylsLJUyEJKFlLmIiEpUqaFoaytzJKFIYXwXz/nOb/u7f25g9/3+9l9n57OPenTcXrPue8Ncxzn2yGw/BfsCZDgQgHAoQDgUABwwoM9gfj4eFXzeDwid3d3q56wsDCRv7/1XnZoaEjkkZER1XN2dubTPP9VuAKAQwHAoQDghDkBfBCUmJioanNzc6qWlZXldSxf9gAmDw8PqjY9Pa1qzc3NXsf6V+AKAA4FAIcCgEMBwAnoJrC8vFzVpqamXI11d3cn8tPTk+pJSUlxNfb+/r7IW1tbqqe3t9fV2KEGVwBwKAA4FACcoB8G2fj8/BR5dHRU9YyPj4tse8iTm5srcm1trepJS0tTtby8PJFtD7DM/YV58OQ4jnNwcKBqoQZXAHAoADgUABwKAE5AN4HmCd6fare3tyI3NTW5+ryLiwuRbSePNlpaWkTu6elRPRUVFSJ/fHyoHm4CSchDAcChAOAEdA9gu7Vjqy0uLgZgNn9mYGBAZNthUEdHh8g1NTWqJzo6WuSysrIfmN3PwhUAHAoADgUAhwKAE5I3gswHOMnJyX6bk1siIyNFtn19raurS+SrqyvVU19fr2rr6+t/OTvf4QoADgUAhwKAQwHACckrYeYGy/YOgZubm0BNx8rb25vIfX19qic8XP55Ozs7VU9bW5uq7e7uivzy8uJmij7BFQAcCgAOBQAnoA+CSktLVW12dlbVIiIiRG5vb1c9g4ODPzavQGFed3cc+2mo+S6jxsZGv82JKwA4FAAcCgAOBQAnoJtAG3t7e6qWk5Mj8vb2tuopLi7225z8hW3D9/X1pWrm36SgoMBvc+IKAA4FAIcCgBP0w6DW1lZV29nZEbmwsFD1FBUViWzbJ4Qatv/3vrzg0p9wBQCHAoBDAcChAOAEfRN4cnKiaqurqyKXlJSonqWlJZErKytVz+HhochRUVGq5/Ly0qd5/qtwBQCHAoBDAcAJ+h7AvF3rOPoG0PPzs+qpqqoSeWJiQvWYN4dtN3fn5+d9mmcgOT8/D9hncQUAhwKAQwHAoQDgBP1GkC+kp6er2ubmpsgxMTFex1lbW1O16upqVTNPGlNTU1XP2NiYyPf3914/33Yt/PX11evnHx8fex3bLVwBwKEA4FAAcCgAOL9iE2gjMzNT5I2NDdUTGxvrdRzbVbLl5WWR+/v7Vc/19bXItu89JiUliWx7A+rMzIyqmU85/QlXAHAoADgUAJygnwa65ejoSOSVlRXVY3vIY+LLlXPb1W3zvUUZGRmqx/yZOl4LJyEHBQCHAoBDAcD5tZtAE4/Ho2rmbw5PTk6qHtvvAvuCeUJne5mjuZm0cXp66urzfwquAOBQAHAoADi/9jDIDdnZ2aq2sLCgagkJCSLbHtaYV9Xf399VT1xcnMj5+fmqx3bbxzaWv+AKAA4FAIcCgEMBwIHaBNr4qSvnNh4fH0U2N4WhAFcAcCgAOBQAHPg9gA3zxnFDQ4PqqaurE9n2foLh4WGR/fkVL7dwBQCHAoBDAcChAOBwEwgOVwBwKAA4FAAcCgAOBQCHAoBDAcChAOBQAHAoADgUABwKAA4FAIcCgEMBwKEA4FAAcCgAOBQAHAoADgUAhwKAQwHAoQDgUABwKAA4FAAcCgAOBQCHAoBDAcD5H8g7OJ1iZ+OXAAAAAElFTkSuQmCC\" y=\"-7.105882\"/>\r\n   </g>\r\n  </g>\r\n  <g id=\"axes_4\">\r\n   <g clip-path=\"url(#p474d568f86)\">\r\n    <image height=\"128\" id=\"imagecb58a15f80\" transform=\"scale(1 -1)translate(0 -128)\" width=\"128\" x=\"7.2\" xlink:href=\"data:image/png;base64,\r\niVBORw0KGgoAAAANSUhEUgAAAIAAAACACAYAAADDPmHLAAAE8klEQVR4nO2dSSi9XxjHX/9EUiysyIKFrSEZkqEsZSdjsXQ3hoylsLJUyEJKFlLmIiEpUqaFoaytzJKFIYXwXz/nOb/u7f25g9/3+9l9n57OPenTcXrPue8Ncxzn2yGw/BfsCZDgQgHAoQDgUABwKAA4FAAcCgAOBQCHAoBDAcChAOBQAHAoADjhwZ5AfHy8qnk8HpG7u7tVT1hYmMjf3/pQc2hoSOSRkRHVc3Z25tM8/1W4AoBDAcChAOCEOQG8EZSYmKhqc3NzqpaVleV1LF/2ACYPDw+qNj09rWrNzc1ex/pX4AoADgUAhwKAQwHACegmsLy8XNWmpqZcjXV3dyfy09OT6klJSXE19v7+vshbW1uqp7e319XYoQZXAHAoADgUAJygHwbZ+Pz8FHl0dFT1jI+Pi2x7yJObmytybW2t6klLS1O1vLw8kW0PsMz9hXnw5DiOc3BwoGqhBlcAcCgAOBQAHAoATkA3geYJ3p9qt7e3Ijc1Nbn6vIuLC5FtJ482WlpaRO7p6VE9FRUVIn98fKgebgJJyEMBwKEA4FAAcAK6CbRd27LVFhcXAzCbPzMwMCCy7TSwo6ND5JqaGtUTHR0tcllZ2Q/M7mfhCgAOBQCHAoATkjeCzAc4ycnJfpuTWyIjI0W2fX2tq6tL5KurK9VTX1+vauvr6385O9/hCgAOBQCHAoBDAcAJySth5gbL9g6Bm5ubQE3Hytvbm8h9fX2qJzxc/nk7OztVT1tbm6rt7u6K/PLy4maKPsEVABwKAA4FACegD4JKS0tVbXZ2VtUiIiJEbm9vVz2Dg4M/Nq9AYV53dxz7YZj5LqPGxka/zYkrADgUABwKAA4FACegm0Abe3t7qpaTkyPy9va26ikuLvbbnPyFbcP39fWlaubfpKCgwG9z4goADgUAhwKAE/TDoNbWVlXb2dkRubCwUPUUFRWJbNsnhBq2//e+vODSn3AFAIcCgEMBwKEA4AR9E3hycqJqq6urIpeUlKiepaUlkSsrK1XP4eGhyFFRUarn8vLSp3n+q3AFAIcCgEMBwKEA4AR9E2her3YcfQXs+flZ9VRVVYk8MTGhesyr47ar2/Pz8z7NM5Ccn58H7LO4AoBDAcChAOAE/UaQL6Snp6va5uamyDExMV7HWVtbU7Xq6mpVM08aU1NTVc/Y2JjI9/f3Xj/fdi389fXV6+cfHx97HdstXAHAoQDgUABwKAA4v2ITaCMzM1PkjY0N1RMbG+t1HNtVsuXlZZH7+/tVz/X1tci27z0mJSWJbHsB5szMjKqZD7n8CVcAcCgAOBQAnKAfBrnl6OhI5JWVFdVje8hj4suVc9vVbfO9RRkZGarH/Jk6XgsnIQcFAIcCgEMBwPm1m0ATj8ejauZvDk9OTqoe2+8C+4J5Qmd7maO5mbRxenrq6vN/Cq4A4FAAcCgAOL/2MMgN2dnZqrawsKBqCQkJItse1pg3ld/f31VPXFycyPn5+arHdtvHNpa/4AoADgUAhwKAQwHAgdoE2vipK+c2Hh8fRTY3haEAVwBwKAA4FAAcCgAO/CbQhnnlvKGhQfXU1dWJbHs/wfDwsMj+/I6fW7gCgEMBwKEA4HAPAA5XAHAoADgUABwKAA4FAIcCgEMBwKEA4FAAcCgAOBQAHAoADgUAhwKAQwHAoQDgUABwKAA4FAAcCgAOBQCHAoDzP2lJOJ35xLrTAAAAAElFTkSuQmCC\" y=\"-160.592941\"/>\r\n   </g>\r\n  </g>\r\n  <g id=\"axes_5\">\r\n   <g clip-path=\"url(#p43c04dcba0)\">\r\n    <image height=\"128\" id=\"image23bb234b62\" transform=\"scale(1 -1)translate(0 -128)\" width=\"128\" x=\"164.752941\" xlink:href=\"data:image/png;base64,\r\niVBORw0KGgoAAAANSUhEUgAAAIAAAACACAYAAADDPmHLAAAE/UlEQVR4nO2dSyi1XRTH9/kSSTEwIgMGpi7JJbmUoczkWgydiUuupTAyVMhASgZS7kVCUqTcBi5lbOQuGbikEN7x3mt/PY/zOnje//83W6v17rPz/lqtnr3Pc3xKqQ9FYPnvpzdAfhYKAA4FAIcCgEMBwKEA4FAAcCgAOBQAHAoADgUAhwKAQwHAoQDgUABwKAA4FAAcCgAOBQCHAoBDAcChAOBQAHAoADgUABwKAA4FAIcCgEMBwKEA4FAAcEJ+egOBEhMTo8V+v1/UdHR0aLHP5xM1Hx/y9Qj9/f1aPDg4KGqOj49d7fO3ww4ADgUAhwKAQwHA8SkPvCQqLi5O5Kanp7U4PT3dcR23Q6DJ7e2tyE1MTGhxQ0OD4zq/EXYAcCgAOBQAHE/MACUlJSI3Pj7+6XWur69F7v7+XuQSExM/vfbOzo7Ira+va3FXV9en1w027ADgUABwKAA4FAAcz54Gmry9vYnc0NCQFo+MjIga20OerKwsLa6qqhI1ycnJWpydnS1qzAdYtuHSPHlUSqnd3V2RCxbsAOBQAHAoADiemAFshzhm7urqStTU19cH9Hmnp6dabB482WhsbBS5zs5OLS4tLRU1r6+vIscZgHwbFAAcCgAOBQDHE0Og7daOmZubm/um3djp7e0VOfM0sLW1VdRUVlaKXEREhBYXFxf/5e7+H3YAcCgAOBQAnH/mRpD58EYppRISEoK2p0AICwsTOfPra0op1d7ersXn5+eipqamRotXVlYC2hM7ADgUABwKAA4FAMcTD4LcYBuwzHcIXF5eftd2rDw/P4tcd3e3yIWE6P8tbW1toqa5uVmLt7a2RM3j46PjntgBwKEA4FAAcCgAOJ54ElhUVCRyU1NTWhwaGipqWlpatLivr+9L9/Vd2K68m6ehthdZ1dXVOa7NDgAOBQCHAoDjiRnAxvb2thZnZmaKmo2NDS0uKCgI6p6Che1G1Pv7uxabfw+llMrNzXVcmx0AHAoADgUAhwKA49nTwKamJi3e3NwUNXl5eVqcn58vasxB8TdiDnxKuXvBpRvYAcChAOBQAHA8OwMcHh5q8dLSkqgpLCzU4vn5eVFTVlYmcnt7e1ocHh4uas7Ozlzt87fDDgAOBQCHAoBDAcDx7BBoXrE2b/8opdTDw4MWl5eXi5rR0VGRM6+P265uz8zMuNrnd3FychLQv2MHAIcCgEMBwPHsjSA3pKSkaPHa2pqoiYyMdFxneXlZ5CoqKrTYdtCUlJSkxcPDw6Lm5ubG8fNtt4Kfnp4cP//g4MBxbXYAcCgAOBQAHAoAzj89BJqkpaWJ3OrqqshFRUU5rmXeJFpYWBA1PT09WnxxcSFqbF97i4+P12LbSzAnJye12PaQyw3sAOBQAHAoADgUABzPngYGwv7+vsgtLi6KnPmUz4abK+fm1W3zpVVKKZWamipy5s/U8Vo4CRoUABwKAA7UDGDD7/eLnPmTs2NjY6LG/FlYN9hO52wvc7TNEyZHR0ef/nwb7ADgUABwKAA4FAAcqNPAQMnIyBC52dlZLY6NjRU15sMa85q6Ukq9vLyIXHR0tBbn5OSIGnOgtK3jBnYAcCgAOBQAHM4AAfJVV85t3N3dabE5E3wl7ADgUABwKAA4FAAcDoFfhO3KeW1trRZXV1eLGtv7CQYGBrTYzXf8AoUdABwKAA4FAIczADjsAOBQAHAoADgUAJw/abo4nfqflI8AAAAASUVORK5CYII=\" y=\"-160.592941\"/>\r\n   </g>\r\n  </g>\r\n  <g id=\"axes_6\">\r\n   <g clip-path=\"url(#pe8bb24c7ce)\">\r\n    <image height=\"128\" id=\"image5f8b668673\" transform=\"scale(1 -1)translate(0 -128)\" width=\"128\" x=\"322.305882\" xlink:href=\"data:image/png;base64,\r\niVBORw0KGgoAAAANSUhEUgAAAIAAAACACAYAAADDPmHLAAAE8klEQVR4nO2dSSi9XxjHX/9EUiysyIKFrSEZkqEsZSdjsXQ3hoylsLJUyEJKFlLmIiEpUqaFoaytzJKFIYXwXz/nOb/u7f25g9/3+9l9n57OPenTcXrPue8Ncxzn2yGw/BfsCZDgQgHAoQDgUABwwoM9gfj4eFXzeDwid3d3q56wsDCRv7/1XnZoaEjkkZER1XN2dubTPP9VuAKAQwHAoQDghDkBfBCUmJioanNzc6qWlZXldSxf9gAmDw8PqjY9Pa1qzc3NXsf6V+AKAA4FAIcCgEMBwAnoJrC8vFzVpqamXI11d3cn8tPTk+pJSUlxNfb+/r7IW1tbqqe3t9fV2KEGVwBwKAA4FACcoB8G2fj8/BR5dHRU9YyPj4tse8iTm5srcm1trepJS0tTtby8PJFtD7DM/YV58OQ4jnNwcKBqoQZXAHAoADgUABwKAE5AN4HmCd6fare3tyI3NTW5+ryLiwuRbSePNlpaWkTu6elRPRUVFSJ/fHyoHm4CSchDAcChAOAEdA9gu7Vjqy0uLgZgNn9mYGBAZNthUEdHh8g1NTWqJzo6WuSysrIfmN3PwhUAHAoADgUAhwKAE5I3gswHOMnJyX6bk1siIyNFtn19raurS+SrqyvVU19fr2rr6+t/OTvf4QoADgUAhwKAQwHACckrYeYGy/YOgZubm0BNx8rb25vIfX19qic8XP55Ozs7VU9bW5uq7e7uivzy8uJmij7BFQAcCgAOBQAnoA+CSktLVW12dlbVIiIiRG5vb1c9g4ODPzavQGFed3cc+2mo+S6jxsZGv82JKwA4FAAcCgAOBQAnoJtAG3t7e6qWk5Mj8vb2tuopLi7225z8hW3D9/X1pWrm36SgoMBvc+IKAA4FAIcCgBP0w6DW1lZV29nZEbmwsFD1FBUViWzbJ4Qatv/3vrzg0p9wBQCHAoBDAcChAOAEfRN4cnKiaqurqyKXlJSonqWlJZErKytVz+HhochRUVGq5/Ly0qd5/qtwBQCHAoBDAcAJ+h7AvF3rOPoG0PPzs+qpqqoSeWJiQvWYN4dtN3fn5+d9mmcgOT8/D9hncQUAhwKAQwHAoQDgBP1GkC+kp6er2ubmpsgxMTFex1lbW1O16upqVTNPGlNTU1XP2NiYyPf3914/33Yt/PX11evnHx8fex3bLVwBwKEA4FAAcCgAOL9iE2gjMzNT5I2NDdUTGxvrdRzbVbLl5WWR+/v7Vc/19bXItu89JiUliWx7A+rMzIyqmU85/QlXAHAoADgUAJygnwa65ejoSOSVlRXVY3vIY+LLlXPb1W3zvUUZGRmqx/yZOl4LJyEHBQCHAoBDAcD5tZtAE4/Ho2rmbw5PTk6qHtvvAvuCeUJne5mjuZm0cXp66urzfwquAOBQAHAoADi/9jDIDdnZ2aq2sLCgagkJCSLbHtaYV9Xf399VT1xcnMj5+fmqx3bbxzaWv+AKAA4FAIcCgEMBwIHaBNr4qSvnNh4fH0U2N4WhAFcAcCgAOBQAHPg9gA3zxnFDQ4PqqaurE9n2foLh4WGR/fkVL7dwBQCHAoBDAcChAOBwEwgOVwBwKAA4FAAcCgAOBQCHAoBDAcChAOBQAHAoADgUABwKAA4FAIcCgEMBwKEA4FAAcCgAOBQAHAoADgUAhwKAQwHAoQDgUABwKAA4FAAcCgAOBQCHAoBDAcD5H8g7OJ1iZ+OXAAAAAElFTkSuQmCC\" y=\"-160.592941\"/>\r\n   </g>\r\n  </g>\r\n  <g id=\"axes_7\">\r\n   <g clip-path=\"url(#p48b39f1efa)\">\r\n    <image height=\"128\" id=\"image5872b0171e\" transform=\"scale(1 -1)translate(0 -128)\" width=\"128\" x=\"7.2\" xlink:href=\"data:image/png;base64,\r\niVBORw0KGgoAAAANSUhEUgAAAIAAAACACAYAAADDPmHLAAAFDUlEQVR4nO2dSyh2XRTHty+RFAMjMmBg6pJckksZykyuxdAzccm1FEaGChlIyUDKvUhIipTbwKWMjdwlA5cUwjvee+0v533ec54H//9vtlarc3b6tVudvewnRCn1qQgs/wV7ASS4UABwKAA4FAAcCgAOBQCHAoBDAcChAOBQAHAoADgUABwKAA4FAIcCgEMBwKEA4FAAcCgAOBQAHAoADgUAhwKAQwHAoQDgUABwKAA4FAAcCgAOBQCHAoAT6uXDY2Njtdjn84mazs5OkQsJCdHiz095hcHAwIAWDw0NiZqTkxNH60SGOwA4FAAcCgAOBQAnRLl0SVR8fLzIzczMaHFGRoazRTloAk3u7u5EbnJyUosbGxsdvR8J7gDgUABwKAA4rvUApaWlIjcxMeHXs25ubrT44eFB1CQlJf31c3d3d0VuY2ND5Lq7u//62T8V7gDgUABwKAA4FAAcT08DTd7f30VueHhY5EZHR7XY9pEnOztbi6urq0VNSkqKFufk5Iga2wcss8E0Tx6VUmpvb0/kfiLcAcChAOBQAHBc6wHMAxxb7vr6WtQ0NDT49b6zszMtNg+ebDQ1NYlcV1eXyJWVlWnx29ubqGEPQH4FFAAcCgAOBQDHtSbQNrVj5ubn5916nV/09fWJnO00sK2tTYurqqpETWRkpBaXlJT84+qCA3cAcCgAOBQAnIBOBJkfb5RSKjEx0Y3Xu0p4eLgW2/59raOjQ4svLi5ETW1trRavrq66sDp34Q4ADgUAhwKAQwHACehEkNlcKSXvEFBKqaurq0As5395eXnR4p6eHlETGqr/6drb20VNS0uLFm9vb4uap6cnf5boGtwBwKEA4FAAcCgAOK59CSwuLha56elpLQ4LCxM1ra2tItff3+/GkgKKbeTdPA21XWRVX1/v2ZqcwB0AHAoADgUAx7UewMbOzo4WZ2VliZrNzU2RKyws9GpJnmGbiPr4+NBi8++hlFJ5eXmerckJ3AHAoQDgUABwKAA4np4GNjc3a/HW1paoyc/PF7mCggIttjWK3w2z4VPK2QWXwYY7ADgUABwKAI6nPcDR0ZEWLy8vi5qioiKRW1hY0OLy8nJRs7+/r8URERGi5vz83NE6keEOAA4FAIcCgEMBwPG0CTTHq23TP4+PjyJXUVGhxWNjY6LGHB23jW7Pzs46WmegOD09DfYSBNwBwKEA4FAAcDydCHJCamqqyK2vr2txVFTUl89ZWVkRucrKSi02D5mUUio5OVnkRkZGtPj29vbL99umgp+fn798/+Hh4ZfP9hLuAOBQAHAoADgUAJygN4E20tPTtXhtbU3UREdHf/kcc5JocXFR1PT29orc5eWlFtv+7S0hIUGLbZdgTk1NabH5ges7wB0AHAoADgUAhwKAE9BLopxycHCgxUtLS6LG/Mpnwxw5t32Js41umxdXpaWliRrzZ+o4Fk5+JBQAHAoAzrfsAUx8Pp/ImT85Oz4+LmpsPwvrBPOEznaZo62fMDk+Pvbr/YGEOwA4FAAcCgAOBQDnW54G+kNmZqbIzc3NaXFcXJyosX2sMUfVX19fRU1MTIwW5+bmihqzmbQ9J9hwBwCHAoBDAcD5NT2ADXPk3Bw3V8rZyLmN+/t7LTZ7gp8CdwBwKAA4FAAcCgDOr24CTcxxc6WUqqurE7mamhottt1PMDg4qMXB/h8/f+EOAA4FAIcCgAPVAxAJdwBwKAA4FAAcCgDOH4LbOJ3dRBG0AAAAAElFTkSuQmCC\" y=\"-314.08\"/>\r\n   </g>\r\n  </g>\r\n  <g id=\"axes_8\">\r\n   <g clip-path=\"url(#pe5a247c4d4)\">\r\n    <image height=\"128\" id=\"image8e793af546\" transform=\"scale(1 -1)translate(0 -128)\" width=\"128\" x=\"164.752941\" xlink:href=\"data:image/png;base64,\r\niVBORw0KGgoAAAANSUhEUgAAAIAAAACACAYAAADDPmHLAAAFCElEQVR4nO2dSyh1URTH9/0SSTEwIgMGph7JI3mUoczkWQzdiUeepTAyVMhASgZS3kVCUqS8Bh5lbOQtGXikEL7x3mvXva7vnOt+//9vtlarc3a3X+vuzl73XI9S6ksRWP4EewEkuFAAcCgAOBQAHAoADgUAhwKAQwHAoQDgUABwKAA4FAAcCgAOBQCHAoBDAcChAOCEuXmzuLg4kfN6vSLX1dWlxR6PR9R8femDTIODg6JmeHhYi09PT/1aJxLsAOBQAHAoADgUAByPcnAsPCEhQYtnZ2dFTWZmps/r+LMJtHF/f6/FU1NToqapqcnndf5n2AHAoQDgUABwHN0DlJWVafHk5GRA17m9vRW5x8dHLU5OTg7o2nt7eyK3ubmpxT09PQFdOxRgBwCHAoBDAcChAOC4ehpo4+PjQ+RGRka0eGxsTNSYD3lycnJETU1NjRanpqaKmtzcXJEzH2DZNpjm6eP+/r6oCQXYAcChAOBQAHAoADiObgLNUzzbqd7NzY3INTY2fvte5+fnImc7fTRpbm4Wue7ubi0uLy8XNe/v71rMTSAJSSgAOBQAHEf3AObUjm2KZ2Fhwckl+KS/v1/kzNPA9vZ2UVNdXa3FUVFRoqa0tPSHq3MedgBwKAA4FAAcCgBO0EfCbA9wkpKSnFpSQERERIic+fvFzs5OUXN5eanFdXV1omZtbe2Hq/sZ7ADgUABwKAA4QZ8Isn2/mu8RuL6+dms5Vl5fX0Wut7dXi8PC5EfZ0dGhxa2traJmZ2dH5J6fn7+7xIBhBwCHAoBDAcChAOA4+iCopKREi2dmZkRNeHi4yLW1tWnxwMDAP12XW5gj77bTUPNFVkop1dDQ4NiaTNgBwKEA4FAAcBzdA5js7u6KXHZ2tshtbW1pcVFRkWNrchLzO//z81PU2D6T/Px8x9Zkwg4ADgUAhwKAQwHAcfU0sKWlReS2t7dFrqCgQIsLCwtFjblR/I2Ymz5/Xm7pNuwA4FAAcCgAOBQAHFc3gcfHxyK3srIicsXFxVq8uLgoaioqKrT44OBA1ERGRmrxxcWFX+tEgh0AHAoADgUAx9U9gG282pz+UUqpp6cnLa6srBQ14+PjWmwbHTdHt+fm5vxap5ucnZ0F9f7sAOBQAHAoADgUABxXR8L8JS0tTYs3NjZETXR0tM/rrK6uanFVVZWosZ00pqSkaPHo6Kioubu783l/cyz85eXFr/sfHR35vPa/gh0AHAoADgUA51fuAUwyMjJEbn19XYtjYmJ8Xsc2RbS0tCRyfX19Wnx1dSVqzJ+9JSYmihrzJZjT09OixvaQy03YAcChAOBQAHAoADhBf0mUPxweHorc8vKyFtse8piY4+ZK2R/EmOPb5kurlFIqPT1di82/qFOKY+EkBKAA4FAAcEJiD2DD6/Vqsfl3s0opNTExocXmX8L6i+1wxnyZo20vYXJychLQ/Z2EHQAcCgAOBQCHAoATEqeBgZKVlaXF8/PzoiY+Pl7kzAc25pi6Ukq9vb1pcWxsrKjJy8vTYttm0ryO27ADgEMBwKEA4FAAcP7rTaCJOW6uVOAj5yYPDw8iZ9sY/jbYAcChAOBQAHCg9gA2bCPn9fX1WlxbWytqzPcTDA0NiRo3f+IVKOwA4FAAcCgAOBQAHPhNIDrsAOBQAHAoADgUABwKAA4FAIcCgEMBwKEA4FAAcCgAOBQAHAoADgUAhwKAQwHAoQDg/AVxUDidUo8UbwAAAABJRU5ErkJggg==\" y=\"-314.08\"/>\r\n   </g>\r\n  </g>\r\n  <g id=\"axes_9\">\r\n   <g clip-path=\"url(#pf187255591)\">\r\n    <image height=\"128\" id=\"image32e44a3021\" transform=\"scale(1 -1)translate(0 -128)\" width=\"128\" x=\"322.305882\" xlink:href=\"data:image/png;base64,\r\niVBORw0KGgoAAAANSUhEUgAAAIAAAACACAYAAADDPmHLAAAFD0lEQVR4nO2dSyh1XxjGl38iKQZGZMDA1CW5JJcylJlci6Ezccm1FEaGChlIyUDKvUhIipTbwKWMjdwlA5cUwjde613/7O98e5+D5/nNnre3vVenX+us9lpnnxCl1KcisPwX7AGQ4EIBwKEA4FAAcCgAOBQAHAoADgUAJ9TLi8fGxmrZ5/OJns7OTlELCQnR8uenfFY1MDCg5aGhIdFzcnLiaJzIcAYAhwKAQwHAoQDghCiXdgPj4+NFbWZmRssZGRnOBuVgEWhyd3cnapOTk1pubGx0dH8kOAOAQwHAoQDguLYGKC0tFbWJiQm/rnVzc6Plh4cH0ZOUlPTX193d3RW1jY0NUevu7v7ra/9UOAOAQwHAoQDgUABwPN0NNHl/fxe14eFhURsdHdWy7SFPdna2lqurq0VPSkqKlnNyckSP7QGWucA0dx6VUmpvb0/UfiKcAcChAOBQAHBcWwOYGzi22vX1tehpaGjw635nZ2daNjeebDQ1NYlaV1eXqJWVlWn57e1N9HANQH4FFAAcCgAOBQDHtUWg7dSOWZufn3frdn7R19cnarbdwLa2Ni1XVVWJnsjISC2XlJT84+iCA2cAcCgAOBQAHAoATkCPhJlP75RSKjEx0Y3bu0p4eLiWbb9f7Ojo0PLFxYXoqa2t1fLq6qoLo3MXzgDgUABwKAA4AT0RZH63KiXfIaCUUldXV4EYzv/y8vKi5Z6eHtETGqp/dO3t7aKnpaVFy9vb26Ln6enJnyG6BmcAcCgAOBQAHAoAjmsPgoqLi0Vtenpay2FhYaKntbVV1Pr7+90YUkCxHXk3d0NtL7Kqr6/3bExO4AwADgUAhwKA49oawMbOzo6Ws7KyRM/m5qaoFRYWejUkz7CdiPr4+NCy+XkopVReXp5nY3ICZwBwKAA4FAAcCgCOp7uBzc3NWt7a2hI9+fn5olZQUKBl20Lxu2Eu+JRy9oLLYMMZABwKAA4FAMfTNcDR0ZGWl5eXRU9RUZGoLSwsaLm8vFz07O/vazkiIkL0nJ+fOxonMpwBwKEA4FAAcCgAOJ4uAs3j1bbTP4+Pj6JWUVGh5bGxMdFjHh23Hd2enZ11NM5AcXp6GuwhCDgDgEMBwKEA4FAAcDw9EuaE1NRUUVtfX9dyVFTUl9dZWVkRtcrKSi2bu4xKKZWcnCxqIyMjWr69vf3y/rZj4c/Pz1/e//Dw8MtrewlnAHAoADgUAJygrwFspKena3ltbU30REdHf3kd8yTR4uKi6Ont7RW1y8tLLdt+9paQkKBl20swp6amtGw+4PoOcAYAhwKAQwHAoQDgBPQlUU45ODjQ8tLSkugxH/LYMI+c2x7E2I5umy+uSktLEz3m39TxWDj5kVAAcCgAON9yDWDi8/lEzfzL2fHxcdFj+1tYJ5gbNLaXOdrWEybHx8d+3T+QcAYAhwKAQwHAoQDgfMvdQH/IzMwUtbm5OS3HxcWJHtvDGvOo+uvrq+iJiYnRcm5urugxF5O26wQbzgDgUABwKAA4v2YNYMM8cWyeNlbK2YljG/f391o21wQ/Bc4A4FAAcCgAOBQAnF+9CDQxj5srpVRdXZ2o1dTUaNn2foLBwUEtB/snXv7CGQAcCgAOBQCHAoADtQgkEs4A4FAAcCgAOBQAHAoADgUAhwKAQwHAoQDgUABwKAA4FAAcCgAOBQCHAoBDAcChAOBQAHAoADgUABwKAA4FAIcCgEMBwKEA4FAAcP4AQws4nZ4xhbcAAAAASUVORK5CYII=\" y=\"-314.08\"/>\r\n   </g>\r\n  </g>\r\n </g>\r\n <defs>\r\n  <clipPath id=\"p2327e60bed\">\r\n   <rect height=\"127.905882\" width=\"127.905882\" x=\"7.2\" y=\"7.2\"/>\r\n  </clipPath>\r\n  <clipPath id=\"p6911c9410d\">\r\n   <rect height=\"127.905882\" width=\"127.905882\" x=\"164.752941\" y=\"7.2\"/>\r\n  </clipPath>\r\n  <clipPath id=\"pc15c2cd3c3\">\r\n   <rect height=\"127.905882\" width=\"127.905882\" x=\"322.305882\" y=\"7.2\"/>\r\n  </clipPath>\r\n  <clipPath id=\"p474d568f86\">\r\n   <rect height=\"127.905882\" width=\"127.905882\" x=\"7.2\" y=\"160.687059\"/>\r\n  </clipPath>\r\n  <clipPath id=\"p43c04dcba0\">\r\n   <rect height=\"127.905882\" width=\"127.905882\" x=\"164.752941\" y=\"160.687059\"/>\r\n  </clipPath>\r\n  <clipPath id=\"pe8bb24c7ce\">\r\n   <rect height=\"127.905882\" width=\"127.905882\" x=\"322.305882\" y=\"160.687059\"/>\r\n  </clipPath>\r\n  <clipPath id=\"p48b39f1efa\">\r\n   <rect height=\"127.905882\" width=\"127.905882\" x=\"7.2\" y=\"314.174118\"/>\r\n  </clipPath>\r\n  <clipPath id=\"pe5a247c4d4\">\r\n   <rect height=\"127.905882\" width=\"127.905882\" x=\"164.752941\" y=\"314.174118\"/>\r\n  </clipPath>\r\n  <clipPath id=\"pf187255591\">\r\n   <rect height=\"127.905882\" width=\"127.905882\" x=\"322.305882\" y=\"314.174118\"/>\r\n  </clipPath>\r\n </defs>\r\n</svg>\r\n",
      "image/png": "[encoded data removed]"
     },
     "metadata": {
      "needs_background": "light"
     }
    }
   ],
   "source": [
    "def _plot(i,j,ax): data.train_ds[0][0].show(ax, cmap='gray')\n",
    "plot_multi(_plot, 3, 3, figsize=(8,8))"
   ]
  },
  {
   "cell_type": "code",
   "execution_count": 25,
   "metadata": {},
   "outputs": [
    {
     "output_type": "execute_result",
     "data": {
      "text/plain": [
       "(torch.Size([128, 1, 28, 28]), torch.Size([128]))"
      ]
     },
     "metadata": {},
     "execution_count": 25
    }
   ],
   "source": [
    "xb,yb = data.one_batch()\n",
    "xb.shape,yb.shape"
   ]
  },
  {
   "cell_type": "code",
   "execution_count": 26,
   "metadata": {},
   "outputs": [
    {
     "output_type": "display_data",
     "data": {
      "text/plain": "<Figure size 360x360 with 9 Axes>",
      "image/svg+xml": "<?xml version=\"1.0\" encoding=\"utf-8\" standalone=\"no\"?>\r\n<!DOCTYPE svg PUBLIC \"-//W3C//DTD SVG 1.1//EN\"\r\n  \"http://www.w3.org/Graphics/SVG/1.1/DTD/svg11.dtd\">\r\n<!-- Created with matplotlib (https://matplotlib.org/) -->\r\n<svg height=\"351.918125pt\" version=\"1.1\" viewBox=\"0 0 335.388235 351.918125\" width=\"335.388235pt\" xmlns=\"http://www.w3.org/2000/svg\" xmlns:xlink=\"http://www.w3.org/1999/xlink\">\r\n <metadata>\r\n  <rdf:RDF xmlns:cc=\"http://creativecommons.org/ns#\" xmlns:dc=\"http://purl.org/dc/elements/1.1/\" xmlns:rdf=\"http://www.w3.org/1999/02/22-rdf-syntax-ns#\">\r\n   <cc:Work>\r\n    <dc:type rdf:resource=\"http://purl.org/dc/dcmitype/StillImage\"/>\r\n    <dc:date>2020-12-03T00:57:25.950092</dc:date>\r\n    <dc:format>image/svg+xml</dc:format>\r\n    <dc:creator>\r\n     <cc:Agent>\r\n      <dc:title>Matplotlib v3.3.2, https://matplotlib.org/</dc:title>\r\n     </cc:Agent>\r\n    </dc:creator>\r\n   </cc:Work>\r\n  </rdf:RDF>\r\n </metadata>\r\n <defs>\r\n  <style type=\"text/css\">*{stroke-linecap:butt;stroke-linejoin:round;}</style>\r\n </defs>\r\n <g id=\"figure_1\">\r\n  <g id=\"patch_1\">\r\n   <path d=\"M 0 351.918125 \r\nL 335.388235 351.918125 \r\nL 335.388235 0 \r\nL 0 0 \r\nz\r\n\" style=\"fill:none;\"/>\r\n  </g>\r\n  <g id=\"axes_1\">\r\n   <g clip-path=\"url(#pe61df481aa)\">\r\n    <image height=\"90\" id=\"image8f5184d503\" transform=\"scale(1 -1)translate(0 -90)\" width=\"90\" x=\"7.2\" xlink:href=\"data:image/png;base64,\r\niVBORw0KGgoAAAANSUhEUgAAAFoAAABaCAYAAAA4qEECAAAEBElEQVR4nO2cyyu1XRjGH+fkMJAofwAGFCMzikyEMjATGWBkghwmUg4lDEQGTgNSkhIxESVGckgUZSCHUkqJckjim12ttdu+Xr17XXt/n+s3+q32XvtZru5Wz17PvYV9fX19ecI54cFewG9BQZNQ0CQUNAkFTUJBk1DQJBQ0CQVNQkGTUNAkFDQJBU1CQZNQ0CQUNAkFTUJBk4hkXejs7Aze29sL397eht/c3FhzUlJS4MXFxfC4uDh4WVkZPDzcrpuSkpK/WHFgUUWTUNAkFDSJMFftBvPz89a4trYW/vb25ndOfn6+NQ4LC4NfXl7Cr66u/M433+959h7d3d0Nz83N/WbV7lBFk1DQJJzd3p2fn1vj6Oho+NzcHDwvLw+elpZmzTG3gsfHR/jd3R18cHAQvrCwYM1fW1uDb25uwtvb2/16TEyMvz8lIKiiSShoEs7uOra2tqzx7u4uvK2tzcUlvevra2s8PT0NN+86Pj8/4bOzs/Cqqion6/I8VTQNBU3C2dYRakxOTsIbGhrgGRkZ8NPTU2fXV0WTUNAkaOfRwSYhIQEeFRUFj4iIoFxfFU1CQZNQ0CT+V3u0+Y3P8zxveHgY3traCv/4+ICPjIy4X5iniqahoEn8J7eO19dX+MbGBtw8m/Y8u5XBpK+vD15QUBDg1flHFU1CQZMI6a3j4uICPj4+DjfPtn3PvU2Sk5Pho6Oj8MrKSrjvk3NXqKJJKGgStPPo+/t7eE9PD3x5efnbOQ8PD3DzKbj5tDo7Oxve3NxszS8sLISbDZPBQBVNQkGToG0dZgNLaWkp/Ls+PF/q6urgTU1N8MzMzACszj2qaBIKmoSCJhGUdoOVlRX41NQUfH193XqfuX/Hx8fDzSbJ8vJyF0sMOKpoEgqaREh1Kh0fH1tjs0nRfORkfjM0e6LN28ZQQxVNQkGTCKmt49/Y2dmBm7+WNZfv+3OO1NRU9wv7Q1TRJBQ0CWdbR0VFhTU2f0m1uroKT0pK+vFnT0xMwOvr6+FZWVnW+05OTn782a5QRZNQ0CQUNAlne/TQ0JA1bmlpgXd0dMDNrqE/5enpCV5UVAQ/PDy03ndwcADPycn58XUCiSqahIIm4axTqbGx0RofHR3B+/v74eYBUWdnpzXnuy6ixMREeE1NDXx/f99639LSElxbxy9BQZNwtnWY/5/D8zyvuroavri4CO/q6oLv7e1Zc8w7lfT0dPjz8zPcPLP23WoiI0Onh1MVTUJBkwjKebR5N2D+qx3f8+SfEhsba41fXl7+6vMCiSqahIImEfRHWbe3t/CxsTHrtYGBAfj7+7vf+WZ/9MzMjPVasL+kmKiiSShoEgqaRND36N+CKpqEgiahoEkoaBIKmsQ/SnYkm/2EoQIAAAAASUVORK5CYII=\" y=\"-21.918125\"/>\r\n   </g>\r\n   <g id=\"text_1\">\r\n    <!-- 3 -->\r\n    <g transform=\"translate(48.1825 16.318125)scale(0.12 -0.12)\">\r\n     <defs>\r\n      <path d=\"M 40.578125 39.3125 \r\nQ 47.65625 37.796875 51.625 33 \r\nQ 55.609375 28.21875 55.609375 21.1875 \r\nQ 55.609375 10.40625 48.1875 4.484375 \r\nQ 40.765625 -1.421875 27.09375 -1.421875 \r\nQ 22.515625 -1.421875 17.65625 -0.515625 \r\nQ 12.796875 0.390625 7.625 2.203125 \r\nL 7.625 11.71875 \r\nQ 11.71875 9.328125 16.59375 8.109375 \r\nQ 21.484375 6.890625 26.8125 6.890625 \r\nQ 36.078125 6.890625 40.9375 10.546875 \r\nQ 45.796875 14.203125 45.796875 21.1875 \r\nQ 45.796875 27.640625 41.28125 31.265625 \r\nQ 36.765625 34.90625 28.71875 34.90625 \r\nL 20.21875 34.90625 \r\nL 20.21875 43.015625 \r\nL 29.109375 43.015625 \r\nQ 36.375 43.015625 40.234375 45.921875 \r\nQ 44.09375 48.828125 44.09375 54.296875 \r\nQ 44.09375 59.90625 40.109375 62.90625 \r\nQ 36.140625 65.921875 28.71875 65.921875 \r\nQ 24.65625 65.921875 20.015625 65.03125 \r\nQ 15.375 64.15625 9.8125 62.3125 \r\nL 9.8125 71.09375 \r\nQ 15.4375 72.65625 20.34375 73.4375 \r\nQ 25.25 74.21875 29.59375 74.21875 \r\nQ 40.828125 74.21875 47.359375 69.109375 \r\nQ 53.90625 64.015625 53.90625 55.328125 \r\nQ 53.90625 49.265625 50.4375 45.09375 \r\nQ 46.96875 40.921875 40.578125 39.3125 \r\nz\r\n\" id=\"DejaVuSans-51\"/>\r\n     </defs>\r\n     <use xlink:href=\"#DejaVuSans-51\"/>\r\n    </g>\r\n   </g>\r\n  </g>\r\n  <g id=\"axes_2\">\r\n   <g clip-path=\"url(#p5c731b47e9)\">\r\n    <image height=\"90\" id=\"image27a9677e04\" transform=\"scale(1 -1)translate(0 -90)\" width=\"90\" x=\"122.894118\" xlink:href=\"data:image/png;base64,\r\niVBORw0KGgoAAAANSUhEUgAAAFoAAABaCAYAAAA4qEECAAABeklEQVR4nO3cwYmEMABA0c2y/ViAd2uxBiuwBZsQPNuELXixDN1bGEHBw87PJPvfKcM4ED4hTMIw4TiO40tv9516Av+FoSGGhhgaYmiIoSGGhhgaYmiIoSGGhhgaYmiIoSGGhhgaYmiIoSE/qSfwl7quO73u+/7yuX3fiemcuKIhhoYYGhJy/7nBuq5xXNf16b1t2y4/4x5dMENDsv96N01THN9tFZ/AFQ0xNCT7rePVJ3+BckVDDA0pausIIaSewi1XNMTQEENDDA0xNMTQEENDDA0xNKSok6GXSjI0paitw0slGZpiaIihIYaGGBpiaIihIYaGFHUy9FJJhqYUtXV4qSRDUwwNMTTE0BBDQwwNMTTE0JDsT4bjOKaewiOuaIihIdn/X8frRdLTSyX/r6NghoYYGmJoiKEh2R9Y2raN42EYHj2XgisaYmhI9geWZVniuGma2+fmeY7jqqreOaVLrmiIoSGGhmS/R+fCFQ0xNMTQEENDDA35BTtQQLowOWuQAAAAAElFTkSuQmCC\" y=\"-21.918125\"/>\r\n   </g>\r\n   <g id=\"text_2\">\r\n    <!-- 1 -->\r\n    <g transform=\"translate(163.876618 16.318125)scale(0.12 -0.12)\">\r\n     <defs>\r\n      <path d=\"M 12.40625 8.296875 \r\nL 28.515625 8.296875 \r\nL 28.515625 63.921875 \r\nL 10.984375 60.40625 \r\nL 10.984375 69.390625 \r\nL 28.421875 72.90625 \r\nL 38.28125 72.90625 \r\nL 38.28125 8.296875 \r\nL 54.390625 8.296875 \r\nL 54.390625 0 \r\nL 12.40625 0 \r\nz\r\n\" id=\"DejaVuSans-49\"/>\r\n     </defs>\r\n     <use xlink:href=\"#DejaVuSans-49\"/>\r\n    </g>\r\n   </g>\r\n  </g>\r\n  <g id=\"axes_3\">\r\n   <g clip-path=\"url(#pe01ec81ecb)\">\r\n    <image height=\"90\" id=\"image0a05090930\" transform=\"scale(1 -1)translate(0 -90)\" width=\"90\" x=\"238.588235\" xlink:href=\"data:image/png;base64,\r\niVBORw0KGgoAAAANSUhEUgAAAFoAAABaCAYAAAA4qEECAAADa0lEQVR4nO2bu0orURiFR4mIkkJEC8FLEQgaLMRSBLVSvMU6TXwCBav4AiJYaG9h6wURsRJRQRBBLcQHsLBIhEQJ2HhBc7p19s45homTrBnPWV/1hbns7eLnZ892pqZQKBQcUXVq/Z7A/4KCJqGgSShoEgqahIImoaBJKGgSCpqEgiahoEkoaBIKmoSCJqGgSShoEgqahIImoaBJKGgSCpqEgiahoEkoaBIKmoSCJqGgSShoEiG/J+CWt7c3+Pb2NnxzcxP++vpqXTM0NASfmZmB9/b2VmGGpVFFk1DQJGqC/H700dERfGJiAv7+/l72vWprf9dUXV0dPJVKwRcXF61r6uvryx7ny/ErdidREgVNIlCtY39/3/o9OzsLN9vF9PQ0vKury9W9zdVJOp2Gm6uZvr4+65qtrS14NBp1Nc5XqKJJKGgSCpqE7z3afJobGBiwjt3d3cEPDg7gg4ODnsa8uLiAr6+vwzc2NqzzRkZG4CcnJ57GVEWTUNAkfG8duVwO3traah07Pz+HF7eVSvHx8QEvXiqabS2bzXoaRxVNQkGT8H0/uqmpCT41NWUdOzw8hFerdVxeXsIfHx+tY8vLyxUbRxVNQkGT8H3VUYqbmxt4Z2cnvLm52dN9Pz8/4clkEm6uchzHfmDyiiqahIIm4fuqoxTF+8NeeHl5ga+srMDNPfCdnZ2KjVeMKpqEgiahoEkEukeXS/FK9fn5GT4/Pw+/vr6GLy0twUdHR6s2N1U0CQVN4ke2joeHB7j5NtPu7q51nrl06+7uhq+ursLHxsaqMcU/UEWTUNAkArWplEgkrN9mWzAx3y6KxWLweDxunReJRODmS5KNjY2e5vkdVNEkFDSJQK06zD1nx7H/Qx4Oh+HHx8fw/v5+eCgUqD/HQhVNQkGTUNAkArW8K6anpweeyWTg+Xzeh9l4QxVNQkGTcL0eamtrg5vflszNzf31HLc8PT3Bze9MHMfePOro6Cj73kFCFU1CQZNwvepYWFiAr62twVtaWuDj4+PwhoYG63rzCc78tOH09BR+f39vXWO+L311dQX/iW1EFU1CQZP41gPL7e0tfG9vD352dubqerMlTE5OwoeHh63z2tvby51aYFFFk1DQJAK91/EvoYomoaBJKGgSCpqEgiahoEkoaBIKmoSCJvELHc3kQIL4rX0AAAAASUVORK5CYII=\" y=\"-21.918125\"/>\r\n   </g>\r\n   <g id=\"text_3\">\r\n    <!-- 3 -->\r\n    <g transform=\"translate(279.570735 16.318125)scale(0.12 -0.12)\">\r\n     <use xlink:href=\"#DejaVuSans-51\"/>\r\n    </g>\r\n   </g>\r\n  </g>\r\n  <g id=\"axes_4\">\r\n   <g clip-path=\"url(#p9d83544586)\">\r\n    <image height=\"90\" id=\"image4c727d2b92\" transform=\"scale(1 -1)translate(0 -90)\" width=\"90\" x=\"7.2\" xlink:href=\"data:image/png;base64,\r\niVBORw0KGgoAAAANSUhEUgAAAFoAAABaCAYAAAA4qEECAAADuklEQVR4nO2cPSi1YRzGH3qFfGRCNkpEBsWgkMFi9m2gyMTCRsrAoMRgsMgiQmQwYKKUDL5KFhIWIiYSUs67Xe99nx55fJzrOcd7/abf3fPcz7m7+nd3/895OlGBQCDgiJAT7fcC/hcUNIk/fi/AKz09PfChoSHXe2ZnZ61xQ0NDSNf0GVTRJBQ0iahIOXXc3t7CU1NTXe/R1iEUNAsFTSJi9ui3tzd4ZWUlfGNjA15XV2fNmZ+fD/3CPKKKJqGgSURMZxgd/a8m0tPTXe9ZXl62xs/Pz/C4uLjQLMwjqmgSCppExJw6TLx0iY7jOAsLC/CampqQrukjVNEkFDSJiDl1mKSkpMBzcnLgx8fH1n3X19esJX2IKpqEgiahoElE5PHOpLGxET43N2ddy83NhR8cHMD96BJV0SQUNImI3zp2d3fhxcXF797nd5eoiiahoEmEVWf48vJijTc3N+FlZWXwmJgYeFFRETwzM9Oaf35+Dve7S1RFk1DQJHw/dUxPT8M7Ojqsa/f3965zSkpK4F1dXfClpSXrPrOBMZuX/f19eHx8/CdX/DVU0SQUNAnft47s7Gz46empda2iogJ+dHQEv7u7+9Zn+tG8qKJJKGgSCppEWHWGwQwPD8MLCgrgExMT8MHBQfjNzY2n5+7s7MC1R/8yFDSJsD7erayswKuqqlznPzw8wOvr661rq6urrnPS0tLg6+vr8Ly8PA8r/hqqaBIKmoTvW8fi4iK8ubnZupaUlATf3t6GZ2VluT7r6enJGre1tbl+zuvrK7y7uxs+MjLiddmfRhVNQkGT8H3rMCktLbXGW1tb8Pb2dvjo6Cg8MTHR07NbWlrgU1NT8NjYWPjMzIw1p7q62tOzvaCKJqGgSYTV1nF2dmaNzSbl5OQEPjAwAO/r6/P07KurK7i5RZm/lAc/y/yc76KKJqGgSShoEmH1fXRwx7e2tgYvLy+H9/f3ww8PD+Hm/y45juMUFhbCMzIy4OPj4/D3vqz6aVTRJBQ0ibDaOoIxX1o030JqamqCm68OmP/d4TiO09raCjePbl67yZ9EFU1CQZMIq87QK5eXl/De3l64+cKk49h/D5Sfnw9/fHyEX1xcwCcnJ6355tbzXVTRJBQ0iYjcOt5jbGzMGps/f+3t7cETEhLgtbW18M7OTmt+cnLyj61NFU1CQZNQ0CR+1R4dzqiiSShoEgqahIImoaBJKGgSCpqEgiahoEkoaBIKmoSCJqGgSShoEgqahIImoaBJKGgSCpqEgiahoEn8BcNGElb/4cadAAAAAElFTkSuQmCC\" y=\"-138.318125\"/>\r\n   </g>\r\n   <g id=\"text_4\">\r\n    <!-- 9 -->\r\n    <g transform=\"translate(48.1825 132.718125)scale(0.12 -0.12)\">\r\n     <defs>\r\n      <path d=\"M 10.984375 1.515625 \r\nL 10.984375 10.5 \r\nQ 14.703125 8.734375 18.5 7.8125 \r\nQ 22.3125 6.890625 25.984375 6.890625 \r\nQ 35.75 6.890625 40.890625 13.453125 \r\nQ 46.046875 20.015625 46.78125 33.40625 \r\nQ 43.953125 29.203125 39.59375 26.953125 \r\nQ 35.25 24.703125 29.984375 24.703125 \r\nQ 19.046875 24.703125 12.671875 31.3125 \r\nQ 6.296875 37.9375 6.296875 49.421875 \r\nQ 6.296875 60.640625 12.9375 67.421875 \r\nQ 19.578125 74.21875 30.609375 74.21875 \r\nQ 43.265625 74.21875 49.921875 64.515625 \r\nQ 56.59375 54.828125 56.59375 36.375 \r\nQ 56.59375 19.140625 48.40625 8.859375 \r\nQ 40.234375 -1.421875 26.421875 -1.421875 \r\nQ 22.703125 -1.421875 18.890625 -0.6875 \r\nQ 15.09375 0.046875 10.984375 1.515625 \r\nz\r\nM 30.609375 32.421875 \r\nQ 37.25 32.421875 41.125 36.953125 \r\nQ 45.015625 41.5 45.015625 49.421875 \r\nQ 45.015625 57.28125 41.125 61.84375 \r\nQ 37.25 66.40625 30.609375 66.40625 \r\nQ 23.96875 66.40625 20.09375 61.84375 \r\nQ 16.21875 57.28125 16.21875 49.421875 \r\nQ 16.21875 41.5 20.09375 36.953125 \r\nQ 23.96875 32.421875 30.609375 32.421875 \r\nz\r\n\" id=\"DejaVuSans-57\"/>\r\n     </defs>\r\n     <use xlink:href=\"#DejaVuSans-57\"/>\r\n    </g>\r\n   </g>\r\n  </g>\r\n  <g id=\"axes_5\">\r\n   <g clip-path=\"url(#p1acabbd276)\">\r\n    <image height=\"90\" id=\"imagefe4aa38889\" transform=\"scale(1 -1)translate(0 -90)\" width=\"90\" x=\"122.894118\" xlink:href=\"data:image/png;base64,\r\niVBORw0KGgoAAAANSUhEUgAAAFoAAABaCAYAAAA4qEECAAADoElEQVR4nO2bzyt0URzGr9dLLFBKsZFsJCWRjY2NFYoSW/4BP5Kys7Kw8COhkEJWkthhw8KOkoWEhWyEhZKFEpp393SO5urOnDPP6J3ns/rcmTk/ejp9O3PvuVmxWCwWeOLl5QW+vb1tfTc4OAh/e3uL235qasq67urqgpeXl3uYYfr4k+4JZAoKmkSWz9JxeHgIb2lpce6vsbERvrKyAq+qqoLn5uY6j8NAK5qEgibhXDqGh4fhW1tb8Pv7e5duf6Svrw8+MDAAr6urS9mYrmhFk1DQJBQ0CecanZ+fD39/f3eeUKKUlJTAn56e6ONHRSuahIImQSsdBQUF8LKyMvjz83Ncj0pOTg68qanJ+m5ychLe0NCQcN8+0YomoaBJJFU6dnd34T09PfDPz8/QNpubm/Du7m748fExfHV11WqztraW6NQsmpub4UdHR059uaIVTUJBk0iqdJg3cubn5yO1MR9zFRYWxv3Nx8eHdf3w8ABvb2+HX1xcRBrT3JFsbGzAzXLHQiuahIImoaBJ/E33BEzMmhoE9hEDc0vZ1tYGv76+Du3PrPmPj48eZpg8WtEkFDSJX7W9i8rt7S28s7MT/tO2Ly8vDx52UiqVaEWTUNAkktp11NTUwLOzs+FfX1+hbUZGRuDLy8vJDAsqKyvh5r+8qP8Y04FWNAkFTYL2KKujowNu3pt2PaRo7maKi4tDf6ddR4agoEk4lw7z9YednZ1IbYaGhuDT09Muw6t0CBsFTUJBk3C+H23e1IlaoxcWFuJ+PjExYV1fXl7C19fX4ea96ZmZGbh5jCEI7IPxvb29keaWKrSiSShoEs7bu7u7O3hrayv86uoq4b7Gxsas65OTE/j+/n7cNuYrcqenp6F9a3uXIShoEl7fnB0fH4d/LwPpRqUjQ1DQJLyWDvMwS3V1ta9uvVBbWws/Pz+nj68VTUJBk/B69q60tBRu3psIgiDo7++Hv76++hw2FPMJ/ejoKGXMMLSiSShoEgqahNft3U+cnZ3B5+bm4N9ruU/0+lsGoqBJ0F6tqK+vhy8tLcErKirge3t7Vpubmxu4eawgKmbf6UYrmoSCJkHbdSTDwcEBfHFxEW4+BTcPWc7OzlrtzbPTRUVFKZhhdLSiSShoEr+6dPxPaEWTUNAkFDQJBU1CQZNQ0CQUNAkFTUJBk1DQJBQ0CQVNQkGTUNAkFDQJBU1CQZNQ0CQUNAkFTUJBk1DQJBQ0CQVNQkGT+AesoCOIq89hHgAAAABJRU5ErkJggg==\" y=\"-138.318125\"/>\r\n   </g>\r\n   <g id=\"text_5\">\r\n    <!-- 0 -->\r\n    <g transform=\"translate(163.876618 132.718125)scale(0.12 -0.12)\">\r\n     <defs>\r\n      <path d=\"M 31.78125 66.40625 \r\nQ 24.171875 66.40625 20.328125 58.90625 \r\nQ 16.5 51.421875 16.5 36.375 \r\nQ 16.5 21.390625 20.328125 13.890625 \r\nQ 24.171875 6.390625 31.78125 6.390625 \r\nQ 39.453125 6.390625 43.28125 13.890625 \r\nQ 47.125 21.390625 47.125 36.375 \r\nQ 47.125 51.421875 43.28125 58.90625 \r\nQ 39.453125 66.40625 31.78125 66.40625 \r\nz\r\nM 31.78125 74.21875 \r\nQ 44.046875 74.21875 50.515625 64.515625 \r\nQ 56.984375 54.828125 56.984375 36.375 \r\nQ 56.984375 17.96875 50.515625 8.265625 \r\nQ 44.046875 -1.421875 31.78125 -1.421875 \r\nQ 19.53125 -1.421875 13.0625 8.265625 \r\nQ 6.59375 17.96875 6.59375 36.375 \r\nQ 6.59375 54.828125 13.0625 64.515625 \r\nQ 19.53125 74.21875 31.78125 74.21875 \r\nz\r\n\" id=\"DejaVuSans-48\"/>\r\n     </defs>\r\n     <use xlink:href=\"#DejaVuSans-48\"/>\r\n    </g>\r\n   </g>\r\n  </g>\r\n  <g id=\"axes_6\">\r\n   <g clip-path=\"url(#pe562ef491f)\">\r\n    <image height=\"90\" id=\"image0030505c32\" transform=\"scale(1 -1)translate(0 -90)\" width=\"90\" x=\"238.588235\" xlink:href=\"data:image/png;base64,\r\niVBORw0KGgoAAAANSUhEUgAAAFoAAABaCAYAAAA4qEECAAAEhElEQVR4nO2cSyhtYRTHv6NLTBRRHpG8MiAMTIgBJa9EkUQmEilFJhQZeJWJR4ooZSCFSEreA5Q5A5QkeRVKipTHuaP7b30nh7OPY2333vUb/Xb77L2/82+12ufb3z4Wq9VqVcK342b2AP4XJGgmJGgmJGgmJGgmJGgmJGgmJGgmJGgmJGgmJGgmJGgmJGgmJGgmJGgmJGgmJGgmJGgmfpk9AMrr66u2PTMzA5+amoLPzs7Cvby84FlZWdrxxcXF8KKiIri7u/vXB2sQqWgmJGgmJGgmLGYvN3h+fobX1NRo+8bGxlx2ncLCQvjExASc9vjvRCqaCQmaCdNbR0dHB7y1tVXbFxcXB29paYGHhIS8e67Dw0Ntu6enB76/vw9vbm6Gd3V1GRyxc0hFMyFBM2F660hNTYVvb29r+xYWFuB5eXmGz31+fg5PTk6GJyQkwOfn5w2f1xmkopmQoJkwfVIpPT0dbts6ent74Tk5OXA3N8fqIzg4GJ6SkgJ/eHgwPM6vIhXNhATNhOl3HRcXF/D4+Hht383NDXxubg5eUFDg0LmXlpbgubm5cHoHI3cd/xgSNBMSNBOm92hKQ0ODtt3X1wcPCwuDHx8fwy0WC/zs7Ew7nk5K0Vs92u+joqKcHq8RpKKZkKCZ+FGt4/b2VtsODw+H39/fw8vKyuD5+fnwtrY27fiTkxP4wMAAvKqq6stjNYpUNBMSNBM/qnXYQh9fdXZ2fvp5Hx8fbXtzcxMeGxvruoE5gVQ0ExI0E6bPR38EfeREf5jY63a2ixcDAwO/ZVzOIBXNhATNhOl3Hf39/fD19XVtX0BAAJw+xd7a2oJ/tD6voqICPjo6Cvfw8HBusF9AKpoJCZoJCZoJU3r04uIinD7/o2ullVKqrq4OTpcevLy8wOvr6+HDw8N2r0nfYZmenjY0XlcgFc2EBM0EW+t4enqCJyYmwi8vL+FDQ0PaMSUlJXB7q5Pe3t7gtvPRdO01/dU4Pj4OLy0t/XTsrkAqmgkJmgm21nF1dQUPCgqCV1ZWwkdGRrRj6ESSI9D10EoplZ2dDd/b23v3vI2NjXDb1yxc+YatVDQTEjQTpvxgyczMhK+ursK7u7u1z9XW1sK9vb0NX+fu7g7e3t4Opz9+6NePjIzUjqeTXKGhoYavT5GKZkKCZkKCZsKUHn19fQ1PS0uDHxwcaJ+jCxDpC/l0Qt/Pz8/w9QcHB+FNTU1w23dboqOj4cvLy3C64NJRpKKZkKCZMP2Z4ePjI9x2Uoiuj6Zz0L6+vvDy8nI4nXNWSqmYmBi4v7//u9ff2NiAZ2Rk2B1nUlISfHJyEh4REWH3GIpUNBMSNBOmt46PoK9QVFdXw9fW1hw6nt6R2C6A/AP9+kdHRw6d19PTE356eqrts9eipKKZkKCZ+NGtg0LvTlZWVuD0Hx7pqxRKKbWzs/Pt46KP4pTSV1dRpKKZkKCZ+GtahyPQJ+JK2f9fDvqi/0fQdkXnxumfAezu7mrH2PvDQqloJiRoJiRoJv6pHv2TkYpmQoJmQoJmQoJmQoJm4jfIjl7ZcHCZRwAAAABJRU5ErkJggg==\" y=\"-138.318125\"/>\r\n   </g>\r\n   <g id=\"text_6\">\r\n    <!-- 8 -->\r\n    <g transform=\"translate(279.570735 132.718125)scale(0.12 -0.12)\">\r\n     <defs>\r\n      <path d=\"M 31.78125 34.625 \r\nQ 24.75 34.625 20.71875 30.859375 \r\nQ 16.703125 27.09375 16.703125 20.515625 \r\nQ 16.703125 13.921875 20.71875 10.15625 \r\nQ 24.75 6.390625 31.78125 6.390625 \r\nQ 38.8125 6.390625 42.859375 10.171875 \r\nQ 46.921875 13.96875 46.921875 20.515625 \r\nQ 46.921875 27.09375 42.890625 30.859375 \r\nQ 38.875 34.625 31.78125 34.625 \r\nz\r\nM 21.921875 38.8125 \r\nQ 15.578125 40.375 12.03125 44.71875 \r\nQ 8.5 49.078125 8.5 55.328125 \r\nQ 8.5 64.0625 14.71875 69.140625 \r\nQ 20.953125 74.21875 31.78125 74.21875 \r\nQ 42.671875 74.21875 48.875 69.140625 \r\nQ 55.078125 64.0625 55.078125 55.328125 \r\nQ 55.078125 49.078125 51.53125 44.71875 \r\nQ 48 40.375 41.703125 38.8125 \r\nQ 48.828125 37.15625 52.796875 32.3125 \r\nQ 56.78125 27.484375 56.78125 20.515625 \r\nQ 56.78125 9.90625 50.3125 4.234375 \r\nQ 43.84375 -1.421875 31.78125 -1.421875 \r\nQ 19.734375 -1.421875 13.25 4.234375 \r\nQ 6.78125 9.90625 6.78125 20.515625 \r\nQ 6.78125 27.484375 10.78125 32.3125 \r\nQ 14.796875 37.15625 21.921875 38.8125 \r\nz\r\nM 18.3125 54.390625 \r\nQ 18.3125 48.734375 21.84375 45.5625 \r\nQ 25.390625 42.390625 31.78125 42.390625 \r\nQ 38.140625 42.390625 41.71875 45.5625 \r\nQ 45.3125 48.734375 45.3125 54.390625 \r\nQ 45.3125 60.0625 41.71875 63.234375 \r\nQ 38.140625 66.40625 31.78125 66.40625 \r\nQ 25.390625 66.40625 21.84375 63.234375 \r\nQ 18.3125 60.0625 18.3125 54.390625 \r\nz\r\n\" id=\"DejaVuSans-56\"/>\r\n     </defs>\r\n     <use xlink:href=\"#DejaVuSans-56\"/>\r\n    </g>\r\n   </g>\r\n  </g>\r\n  <g id=\"axes_7\">\r\n   <g clip-path=\"url(#p5515933a4d)\">\r\n    <image height=\"90\" id=\"image423d35272e\" transform=\"scale(1 -1)translate(0 -90)\" width=\"90\" x=\"7.2\" xlink:href=\"data:image/png;base64,\r\niVBORw0KGgoAAAANSUhEUgAAAFoAAABaCAYAAAA4qEECAAACFElEQVR4nO3csa5hURhA4XEzFBpBqVMrJHqlSnQSnkDpZUShRuEpJKKQ6BQSPIUXMN0/R+HmTuKsPXdmfdWfOHJ3VnZ2TtxD4fF4PH4odx+pF/C/MDTE0BBDQwwNMTTE0BBDQwwNMTTE0BBDQwwNMTTE0BBDQwwNMTTE0BBDQwwNMTTkZ4o/er1eY+73+zHfbren6yaTSczz+Tz/heXIHQ0xNKSQ4kmlVqsV8/l8fnldvV6Peblcxtzr9fJZWI7c0RBDQ5IcHdVqNeb7/f7yuuzSut1uzNvtNpd15ckdDTE0xNAQQ0MMDUly1zGbzWKeTqcvr8surVwux7xer2MeDAZvXl0+3NEQQ0MMDUnyefRms/nj9zSbzZg7nc47l4NwR0MMDUlydGSPgf1+/6X31Gq1mBuNxtvXlDd3NMTQkCRHx2KxiPlyucR8OBxSLAfhjoYYGpLk6CiVSjEXi8UUS8C5oyGGhiQ5OrKGw2HMu93u6bXs59Hf/ReJ3NEQQ0MMDUnyP8Os0+kUc7vdfnotu7RCoRDzarWKeTQa5be4N3JHQwwNMTTE0BBDQwwNMTTE0BBDQwwNMTTE0BBDQwwNMTTE0BBDQwwNMTTE0BBDQ5I/qVSpVGIej8dPr2W/IfvduaMhhoYkf4DmMx8fv/eBD9DoSwwNMTQk+e3dZ7Ln7/F4jNkv3eslQ0P+6tu7f4k7GmJoyC9kkmckOGxzjwAAAABJRU5ErkJggg==\" y=\"-254.718125\"/>\r\n   </g>\r\n   <g id=\"text_7\">\r\n    <!-- 1 -->\r\n    <g transform=\"translate(48.1825 249.118125)scale(0.12 -0.12)\">\r\n     <use xlink:href=\"#DejaVuSans-49\"/>\r\n    </g>\r\n   </g>\r\n  </g>\r\n  <g id=\"axes_8\">\r\n   <g clip-path=\"url(#p49a320b196)\">\r\n    <image height=\"90\" id=\"imagec0f7d83072\" transform=\"scale(1 -1)translate(0 -90)\" width=\"90\" x=\"122.894118\" xlink:href=\"data:image/png;base64,\r\niVBORw0KGgoAAAANSUhEUgAAAFoAAABaCAYAAAA4qEECAAAEDUlEQVR4nO2cTShscRjGD10fkUS2ZMOKBUooko2PsKAkkvIRK5EFG4mysbBAYkHYSIokKzYkxUJsKBYsCMXCQqQ0d3Wf+/4nd+bM1zuH+/xWv9Oc/8zr6fV25nxMhMvlclkk5ESGu4D/BQatBINWgkErwaCVYNBKMGglGLQSDFoJBq0Eg1aCQSvBoJVg0EowaCUYtBIMWgkGrQSDVoJBK8GglWDQSvwKdwEXFxfwuro647WYmBj40NAQvL6+PvSFBRl2tBIMWomIcN+p9Pn5CU9NTTVeu7+/h0dG/u2JwsJC+NbWFjwpKSkUJQYFdrQSDFqJsI8OSU9Pj7E9NTXldU1BQQF8aWnJeC0zMzM4hQUBdrQSDFoJR42O6+trYzs/Px/+9PTkdX12draxPT09DS8pKQmwusBgRyvBoJVw1OhwZ3h4GD46Ourz+srKSvjKygo8MTExsML8gB2tBINWgkEr4egZ/f7+Dm9sbIRvbm7C5bc/9z/l6uoK3traCl9cXAxmmbZgRyvBoJUI+6UsT8TGxsLHx8fhR0dH8MvLS3hKSso/3+vl5SXI1fkGO1oJBq2Eo0eHRF6mkkcaDw8PcPcTT3K/zs7OEFbnHXa0EgxaCUePjpOTE3h3dzf89PQUHh0dDf/4+DDW5+TkwMvLy0NQoX3Y0UowaCUcNTqen5+N7Y6ODrgcC7u7u3B5001fX5+xfnV1FZ6cnAyfmZkJvFgfYUcrwaCVYNBKOOp8dH9/v7E9MTEB397ehldVVX25Xp5/tizzFgP5DXJ5eRne0tLiX7E+wo5WgkEr4ajDO0+kpaV53ScjI8PYHhsbg7e3t8MnJyfh8hJZVFRUICV6hB2tBINW4tuMjo2NDXhWVpatNW1tbfDj42P43NwcfG1tDd7U1BRIiR5hRyvBoJVw1BeW9fV1Y7u5uRleXFwMl2MkPj7e1nu/vb3By8rK4Hd3d/D9/X1jTXp6uq33tgM7WgkGrQSDVsJRM9od+RC+nMvyBL888WSXs7MzeEVFBby0tNTYTz5OJ69N+gM7WgkGrYSjR8fj4yNc/oufn5/De3t74fKZF8uyrLi4OK+fsbOzA29oaDBek4/fyYf7/Rkj7GglGLQSjh4dEnkftLzr6ObmBl5dXW2skZes7PyWh7wDyrLMS2a1tbXw2dlZr+/lDjtaCQatxLcZHZLb21v44OAgXJ5btixzXIyMjMC7urpsfc7e3h68pqYGLp/ilUc9nmBHK8GglfiWo+NfuI+OgYEB+OvrKzw3Nxeel5f35f6WZVkJCQnwg4MD+MLCwpfuCXa0EgxaCQatxI+a0e7Iw0D5027y1gN5gmp+ft5Y7/5N8w+Hh4fwoqIiW7Wwo5Vg0Er86NHhJNjRSjBoJX4DNlAgYH8GbWoAAAAASUVORK5CYII=\" y=\"-254.718125\"/>\r\n   </g>\r\n   <g id=\"text_8\">\r\n    <!-- 8 -->\r\n    <g transform=\"translate(163.876618 249.118125)scale(0.12 -0.12)\">\r\n     <use xlink:href=\"#DejaVuSans-56\"/>\r\n    </g>\r\n   </g>\r\n  </g>\r\n  <g id=\"axes_9\">\r\n   <g clip-path=\"url(#pedefe24d33)\">\r\n    <image height=\"90\" id=\"image7afc57227d\" transform=\"scale(1 -1)translate(0 -90)\" width=\"90\" x=\"238.588235\" xlink:href=\"data:image/png;base64,\r\niVBORw0KGgoAAAANSUhEUgAAAFoAAABaCAYAAAA4qEECAAAD1ElEQVR4nO2bPSh9fxzHv1d/kjJ4GFgkA8mgMEgpShSDwiRJibApAwaDks3moTwkZZCHhWLBIgYPiwyUx0UpOwP+2/v/+d786+fce98uv/drep3OPed8evfxueee8xX6+Pj4cHHC0tKSt93R0QGvqKiA7+/vwxMTE2NeVzRI+O4C/hYUNIlQPI2OcHp7e+EzMzPw/v5++MTEBLWmoKijSShoEnE9Op6fn+E1NTXwi4sL+O7uLryyspJTWADU0SQUNAkFTSKuZ7Tl7OwMXlVVBU9LS4Pv7Ox4xxQWFsa8rj9FHU1CQZP4MaPDYm/pmpqa4HaMOOfc9vY2/LvHiDqahIIm8SNHh2Vubg7e1dXl7aurq4NvbGzAU1JSYl9YGOpoEgqaxI8fHW9vb/Cenh5vnx0rg4OD8PHx8dgXFoY6moSCJqGgSfz4GW2xLwqcc66hoQFuH0q1tbXBFxYWYl+YU0fTUNAkftXoCOfw8BDe2dkJv7y8hJ+cnMBLSkpiVos6moSCJvFPNE9mp9Dr62vE50tI+K8PkpKSvny8XRhpVzfZX5Crq6twjY5fgIImEeiu4/39Hb6+vg6fnp6G2zXMQcnKyoKXlpbCc3Nz4fbP3b4dd8659PR0eHJyMry+vh5+fn4Ov7q68o4PfzUWCepoEgqaRKDRcXp6Ci8rK4Pn5OTABwYGvGOKioqC1AceHh7goVAIvrKy8mldzjn39PQEz8vLg9tn2Pf39/DJyUnv+L6+vggq9lFHk1DQJBQ0iUAzur29HW5XA93c3MBTU1MjLO3rvLy8eNv2GbRdvL62tgbf29uD21VPzvnzP1LU0SQUNIlAo2Nrawve3NwMn5qagtvnv/GM/WWYnZ3t7cvMzIzaddTRJBQ0iUCjw36722e+t7e38NnZWe+YlpaWIPX9GtTRJBQ0iYjfgh8dHcFbW1vhj4+P3ueGh4fhIyMjkVzyfwlfQJORkRGT6wRBHU1CQZOI6gIa+/zXrkd2zrnl5WV4QUEB3N6NNDY2escUFxd/6fq1tbXe9tDQELy6uvpL54o26mgSCpqEgiYRs0WO9r2cc87Nz8/DFxcX4fb2MHw1Un5+Pry8vPzT61xfX8MPDg68ffZ7YnR09A+qjh3qaBIKmsS3rI+2K53sYsjNzU3vc/aV093dHfz4+PjT83Z3d3vbY2Nj8Gg+Ww6COpqEgibxq/+1Ip5QR5NQ0CQUNAkFTUJBk1DQJBQ0CQVNQkGTUNAkFDQJBU1CQZNQ0CQUNAkFTUJBk1DQJBQ0CQVNQkGTUNAkFDQJBU1CQZNQ0CQUNAkFTeJfUoMnNzGTHkMAAAAASUVORK5CYII=\" y=\"-254.718125\"/>\r\n   </g>\r\n   <g id=\"text_9\">\r\n    <!-- 9 -->\r\n    <g transform=\"translate(279.570735 249.118125)scale(0.12 -0.12)\">\r\n     <use xlink:href=\"#DejaVuSans-57\"/>\r\n    </g>\r\n   </g>\r\n  </g>\r\n </g>\r\n <defs>\r\n  <clipPath id=\"pe61df481aa\">\r\n   <rect height=\"89.6\" width=\"89.6\" x=\"7.2\" y=\"22.318125\"/>\r\n  </clipPath>\r\n  <clipPath id=\"p5c731b47e9\">\r\n   <rect height=\"89.6\" width=\"89.6\" x=\"122.894118\" y=\"22.318125\"/>\r\n  </clipPath>\r\n  <clipPath id=\"pe01ec81ecb\">\r\n   <rect height=\"89.6\" width=\"89.6\" x=\"238.588235\" y=\"22.318125\"/>\r\n  </clipPath>\r\n  <clipPath id=\"p9d83544586\">\r\n   <rect height=\"89.6\" width=\"89.6\" x=\"7.2\" y=\"138.718125\"/>\r\n  </clipPath>\r\n  <clipPath id=\"p1acabbd276\">\r\n   <rect height=\"89.6\" width=\"89.6\" x=\"122.894118\" y=\"138.718125\"/>\r\n  </clipPath>\r\n  <clipPath id=\"pe562ef491f\">\r\n   <rect height=\"89.6\" width=\"89.6\" x=\"238.588235\" y=\"138.718125\"/>\r\n  </clipPath>\r\n  <clipPath id=\"p5515933a4d\">\r\n   <rect height=\"89.6\" width=\"89.6\" x=\"7.2\" y=\"255.118125\"/>\r\n  </clipPath>\r\n  <clipPath id=\"p49a320b196\">\r\n   <rect height=\"89.6\" width=\"89.6\" x=\"122.894118\" y=\"255.118125\"/>\r\n  </clipPath>\r\n  <clipPath id=\"pedefe24d33\">\r\n   <rect height=\"89.6\" width=\"89.6\" x=\"238.588235\" y=\"255.118125\"/>\r\n  </clipPath>\r\n </defs>\r\n</svg>\r\n",
      "image/png": "[encoded data removed]"
     },
     "metadata": {
      "needs_background": "light"
     }
    }
   ],
   "source": [
    "data.show_batch(rows=3, figsize=(5,5))"
   ]
  },
  {
   "cell_type": "markdown",
   "metadata": {},
   "source": [
    "### Basic CNN with batchnorm"
   ]
  },
  {
   "cell_type": "code",
   "execution_count": 27,
   "metadata": {},
   "outputs": [],
   "source": [
    "def conv(ni,nf): return nn.Conv2d(ni, nf, kernel_size=3, stride=2, padding=1)"
   ]
  },
  {
   "cell_type": "code",
   "execution_count": 28,
   "metadata": {},
   "outputs": [],
   "source": [
    "model = nn.Sequential(\n",
    "    conv(1, 8), # 14\n",
    "    nn.BatchNorm2d(8),\n",
    "    nn.ReLU(),\n",
    "    conv(8, 16), # 7\n",
    "    nn.BatchNorm2d(16),\n",
    "    nn.ReLU(),\n",
    "    conv(16, 32), # 4\n",
    "    nn.BatchNorm2d(32),\n",
    "    nn.ReLU(),\n",
    "    conv(32, 16), # 2\n",
    "    nn.BatchNorm2d(16),\n",
    "    nn.ReLU(),\n",
    "    conv(16, 10), # 1\n",
    "    nn.BatchNorm2d(10),\n",
    "    Flatten()     # remove (1,1) grid\n",
    ")"
   ]
  },
  {
   "cell_type": "code",
   "execution_count": 29,
   "metadata": {},
   "outputs": [],
   "source": [
    "learn = Learner(data, model, loss_func = nn.CrossEntropyLoss(), metrics=accuracy)"
   ]
  },
  {
   "cell_type": "code",
   "execution_count": 30,
   "metadata": {},
   "outputs": [
    {
     "output_type": "stream",
     "name": "stdout",
     "text": [
      "Sequential\n======================================================================\nLayer (type)         Output Shape         Param #    Trainable \n======================================================================\nConv2d               [8, 14, 14]          80         True      \n______________________________________________________________________\nBatchNorm2d          [8, 14, 14]          16         True      \n______________________________________________________________________\nReLU                 [8, 14, 14]          0          False     \n______________________________________________________________________\nConv2d               [16, 7, 7]           1,168      True      \n______________________________________________________________________\nBatchNorm2d          [16, 7, 7]           32         True      \n______________________________________________________________________\nReLU                 [16, 7, 7]           0          False     \n______________________________________________________________________\nConv2d               [32, 4, 4]           4,640      True      \n______________________________________________________________________\nBatchNorm2d          [32, 4, 4]           64         True      \n______________________________________________________________________\nReLU                 [32, 4, 4]           0          False     \n______________________________________________________________________\nConv2d               [16, 2, 2]           4,624      True      \n______________________________________________________________________\nBatchNorm2d          [16, 2, 2]           32         True      \n______________________________________________________________________\nReLU                 [16, 2, 2]           0          False     \n______________________________________________________________________\nConv2d               [10, 1, 1]           1,450      True      \n______________________________________________________________________\nBatchNorm2d          [10, 1, 1]           20         True      \n______________________________________________________________________\nFlatten              [10]                 0          False     \n______________________________________________________________________\n\nTotal params: 12,126\nTotal trainable params: 12,126\nTotal non-trainable params: 0\nOptimized with 'torch.optim.adam.Adam', betas=(0.9, 0.99)\nUsing true weight decay as discussed in https://www.fast.ai/2018/07/02/adam-weight-decay/ \nLoss function : CrossEntropyLoss\n======================================================================\nCallbacks functions applied \n\n"
     ]
    }
   ],
   "source": [
    "print(learn.summary())"
   ]
  },
  {
   "cell_type": "code",
   "execution_count": 31,
   "metadata": {},
   "outputs": [],
   "source": [
    "xb = xb.cuda()"
   ]
  },
  {
   "cell_type": "code",
   "execution_count": 32,
   "metadata": {},
   "outputs": [
    {
     "output_type": "execute_result",
     "data": {
      "text/plain": [
       "torch.Size([128, 10])"
      ]
     },
     "metadata": {},
     "execution_count": 32
    }
   ],
   "source": [
    "model(xb).shape"
   ]
  },
  {
   "cell_type": "code",
   "execution_count": 33,
   "metadata": {},
   "outputs": [
    {
     "output_type": "display_data",
     "data": {
      "text/plain": "<IPython.core.display.HTML object>",
      "text/html": "\n    <div>\n        <style>\n            /* Turns off some styling */\n            progress {\n                /* gets rid of default border in Firefox and Opera. */\n                border: none;\n                /* Needs to be in here for Safari polyfill so background images work as expected. */\n                background-size: auto;\n            }\n            .progress-bar-interrupted, .progress-bar-interrupted::-webkit-progress-bar {\n                background: #F44336;\n            }\n        </style>\n      <progress value='0' class='' max='1' style='width:300px; height:20px; vertical-align: middle;'></progress>\n      \n    </div>\n    \n"
     },
     "metadata": {}
    }
   ],
   "source": [
    "learn.lr_find(end_lr=100)"
   ]
  },
  {
   "cell_type": "code",
   "execution_count": null,
   "metadata": {},
   "outputs": [],
   "source": [
    "learn.recorder.plot()"
   ]
  },
  {
   "cell_type": "code",
   "execution_count": null,
   "metadata": {},
   "outputs": [],
   "source": [
    "learn.fit_one_cycle(3, max_lr=0.1)"
   ]
  },
  {
   "cell_type": "markdown",
   "metadata": {},
   "source": [
    "### Refactor"
   ]
  },
  {
   "cell_type": "code",
   "execution_count": null,
   "metadata": {},
   "outputs": [],
   "source": [
    "def conv2(ni,nf): return conv_layer(ni,nf,stride=2)"
   ]
  },
  {
   "cell_type": "code",
   "execution_count": null,
   "metadata": {},
   "outputs": [],
   "source": [
    "model = nn.Sequential(\n",
    "    conv2(1, 8),   # 14\n",
    "    conv2(8, 16),  # 7\n",
    "    conv2(16, 32), # 4\n",
    "    conv2(32, 16), # 2\n",
    "    conv2(16, 10), # 1\n",
    "    Flatten()      # remove (1,1) grid\n",
    ")"
   ]
  },
  {
   "cell_type": "code",
   "execution_count": null,
   "metadata": {},
   "outputs": [],
   "source": [
    "learn = Learner(data, model, loss_func = nn.CrossEntropyLoss(), metrics=accuracy)"
   ]
  },
  {
   "cell_type": "code",
   "execution_count": null,
   "metadata": {},
   "outputs": [
    {
     "data": {
      "text/html": [
       "Total time: 01:12 <p><table style='width:300px; margin-bottom:10px'>\n",
       "  <tr>\n",
       "    <th>epoch</th>\n",
       "    <th>train_loss</th>\n",
       "    <th>valid_loss</th>\n",
       "    <th>accuracy</th>\n",
       "  </tr>\n",
       "  <tr>\n",
       "    <th>1</th>\n",
       "    <th>0.228332</th>\n",
       "    <th>0.206325</th>\n",
       "    <th>0.937500</th>\n",
       "  </tr>\n",
       "  <tr>\n",
       "    <th>2</th>\n",
       "    <th>0.189966</th>\n",
       "    <th>0.192558</th>\n",
       "    <th>0.940800</th>\n",
       "  </tr>\n",
       "  <tr>\n",
       "    <th>3</th>\n",
       "    <th>0.156765</th>\n",
       "    <th>0.092810</th>\n",
       "    <th>0.969100</th>\n",
       "  </tr>\n",
       "  <tr>\n",
       "    <th>4</th>\n",
       "    <th>0.135871</th>\n",
       "    <th>0.083914</th>\n",
       "    <th>0.973300</th>\n",
       "  </tr>\n",
       "  <tr>\n",
       "    <th>5</th>\n",
       "    <th>0.108844</th>\n",
       "    <th>0.071582</th>\n",
       "    <th>0.978000</th>\n",
       "  </tr>\n",
       "  <tr>\n",
       "    <th>6</th>\n",
       "    <th>0.105887</th>\n",
       "    <th>0.128586</th>\n",
       "    <th>0.960200</th>\n",
       "  </tr>\n",
       "  <tr>\n",
       "    <th>7</th>\n",
       "    <th>0.080699</th>\n",
       "    <th>0.052754</th>\n",
       "    <th>0.983200</th>\n",
       "  </tr>\n",
       "  <tr>\n",
       "    <th>8</th>\n",
       "    <th>0.066007</th>\n",
       "    <th>0.037588</th>\n",
       "    <th>0.988600</th>\n",
       "  </tr>\n",
       "  <tr>\n",
       "    <th>9</th>\n",
       "    <th>0.047513</th>\n",
       "    <th>0.030255</th>\n",
       "    <th>0.990200</th>\n",
       "  </tr>\n",
       "  <tr>\n",
       "    <th>10</th>\n",
       "    <th>0.044705</th>\n",
       "    <th>0.028373</th>\n",
       "    <th>0.991600</th>\n",
       "  </tr>\n",
       "</table>\n"
      ],
      "text/plain": [
       "<IPython.core.display.HTML object>"
      ]
     },
     "metadata": {},
     "output_type": "display_data"
    }
   ],
   "source": [
    "learn.fit_one_cycle(10, max_lr=0.1)"
   ]
  },
  {
   "cell_type": "markdown",
   "metadata": {},
   "source": [
    "### Resnet-ish"
   ]
  },
  {
   "cell_type": "code",
   "execution_count": null,
   "metadata": {},
   "outputs": [],
   "source": [
    "class ResBlock(nn.Module):\n",
    "    def __init__(self, nf):\n",
    "        super().__init__()\n",
    "        self.conv1 = conv_layer(nf,nf)\n",
    "        self.conv2 = conv_layer(nf,nf)\n",
    "        \n",
    "    def forward(self, x): return x + self.conv2(self.conv1(x))"
   ]
  },
  {
   "cell_type": "code",
   "execution_count": null,
   "metadata": {},
   "outputs": [
    {
     "name": "stdout",
     "output_type": "stream",
     "text": [
      "Help on function res_block in module fastai.layers:\n",
      "\n",
      "res_block(nf, dense:bool=False, norm_type:Union[fastai.layers.NormType, NoneType]=<NormType.Batch: 1>, bottle:bool=False, **kwargs)\n",
      "    Resnet block of `nf` features.\n",
      "\n"
     ]
    }
   ],
   "source": [
    "help(res_block)"
   ]
  },
  {
   "cell_type": "code",
   "execution_count": null,
   "metadata": {},
   "outputs": [],
   "source": [
    "model = nn.Sequential(\n",
    "    conv2(1, 8),\n",
    "    res_block(8),\n",
    "    conv2(8, 16),\n",
    "    res_block(16),\n",
    "    conv2(16, 32),\n",
    "    res_block(32),\n",
    "    conv2(32, 16),\n",
    "    res_block(16),\n",
    "    conv2(16, 10),\n",
    "    Flatten()\n",
    ")"
   ]
  },
  {
   "cell_type": "code",
   "execution_count": null,
   "metadata": {},
   "outputs": [],
   "source": [
    "def conv_and_res(ni,nf): return nn.Sequential(conv2(ni, nf), res_block(nf))"
   ]
  },
  {
   "cell_type": "code",
   "execution_count": null,
   "metadata": {},
   "outputs": [],
   "source": [
    "model = nn.Sequential(\n",
    "    conv_and_res(1, 8),\n",
    "    conv_and_res(8, 16),\n",
    "    conv_and_res(16, 32),\n",
    "    conv_and_res(32, 16),\n",
    "    conv2(16, 10),\n",
    "    Flatten()\n",
    ")"
   ]
  },
  {
   "cell_type": "code",
   "execution_count": null,
   "metadata": {},
   "outputs": [],
   "source": [
    "learn = Learner(data, model, loss_func = nn.CrossEntropyLoss(), metrics=accuracy)"
   ]
  },
  {
   "cell_type": "code",
   "execution_count": null,
   "metadata": {},
   "outputs": [
    {
     "name": "stdout",
     "output_type": "stream",
     "text": [
      "LR Finder is complete, type {learner_name}.recorder.plot() to see the graph.\n"
     ]
    },
    {
     "data": {
      "image/png": "[encoded data removed]",
      "text/plain": [
       "<Figure size 432x288 with 1 Axes>"
      ]
     },
     "metadata": {
      "needs_background": "light"
     },
     "output_type": "display_data"
    }
   ],
   "source": [
    "learn.lr_find(end_lr=100)\n",
    "learn.recorder.plot()"
   ]
  },
  {
   "cell_type": "code",
   "execution_count": null,
   "metadata": {},
   "outputs": [
    {
     "data": {
      "text/html": [
       "Total time: 02:00 <p><table style='width:300px; margin-bottom:10px'>\n",
       "  <tr>\n",
       "    <th>epoch</th>\n",
       "    <th>train_loss</th>\n",
       "    <th>valid_loss</th>\n",
       "    <th>accuracy</th>\n",
       "  </tr>\n",
       "  <tr>\n",
       "    <th>1</th>\n",
       "    <th>0.248807</th>\n",
       "    <th>0.121582</th>\n",
       "    <th>0.972800</th>\n",
       "  </tr>\n",
       "  <tr>\n",
       "    <th>2</th>\n",
       "    <th>0.120927</th>\n",
       "    <th>0.360583</th>\n",
       "    <th>0.890300</th>\n",
       "  </tr>\n",
       "  <tr>\n",
       "    <th>3</th>\n",
       "    <th>0.104013</th>\n",
       "    <th>0.074916</th>\n",
       "    <th>0.977800</th>\n",
       "  </tr>\n",
       "  <tr>\n",
       "    <th>4</th>\n",
       "    <th>0.081181</th>\n",
       "    <th>0.065717</th>\n",
       "    <th>0.980000</th>\n",
       "  </tr>\n",
       "  <tr>\n",
       "    <th>5</th>\n",
       "    <th>0.068514</th>\n",
       "    <th>0.096448</th>\n",
       "    <th>0.967200</th>\n",
       "  </tr>\n",
       "  <tr>\n",
       "    <th>6</th>\n",
       "    <th>0.061274</th>\n",
       "    <th>0.087955</th>\n",
       "    <th>0.971800</th>\n",
       "  </tr>\n",
       "  <tr>\n",
       "    <th>7</th>\n",
       "    <th>0.051673</th>\n",
       "    <th>0.033911</th>\n",
       "    <th>0.989400</th>\n",
       "  </tr>\n",
       "  <tr>\n",
       "    <th>8</th>\n",
       "    <th>0.048090</th>\n",
       "    <th>0.033234</th>\n",
       "    <th>0.988800</th>\n",
       "  </tr>\n",
       "  <tr>\n",
       "    <th>9</th>\n",
       "    <th>0.039095</th>\n",
       "    <th>0.024638</th>\n",
       "    <th>0.992400</th>\n",
       "  </tr>\n",
       "  <tr>\n",
       "    <th>10</th>\n",
       "    <th>0.023670</th>\n",
       "    <th>0.021215</th>\n",
       "    <th>0.993400</th>\n",
       "  </tr>\n",
       "  <tr>\n",
       "    <th>11</th>\n",
       "    <th>0.019128</th>\n",
       "    <th>0.016159</th>\n",
       "    <th>0.994500</th>\n",
       "  </tr>\n",
       "  <tr>\n",
       "    <th>12</th>\n",
       "    <th>0.021365</th>\n",
       "    <th>0.016120</th>\n",
       "    <th>0.995200</th>\n",
       "  </tr>\n",
       "</table>\n"
      ],
      "text/plain": [
       "<IPython.core.display.HTML object>"
      ]
     },
     "metadata": {},
     "output_type": "display_data"
    }
   ],
   "source": [
    "learn.fit_one_cycle(12, max_lr=0.05)"
   ]
  },
  {
   "cell_type": "code",
   "execution_count": null,
   "metadata": {},
   "outputs": [
    {
     "name": "stdout",
     "output_type": "stream",
     "text": [
      "======================================================================\n",
      "Layer (type)         Output Shape         Param #    Trainable \n",
      "======================================================================\n",
      "Conv2d               [128, 8, 14, 14]     72         True      \n",
      "______________________________________________________________________\n",
      "ReLU                 [128, 8, 14, 14]     0          False     \n",
      "______________________________________________________________________\n",
      "BatchNorm2d          [128, 8, 14, 14]     16         True      \n",
      "______________________________________________________________________\n",
      "Conv2d               [128, 8, 14, 14]     576        True      \n",
      "______________________________________________________________________\n",
      "ReLU                 [128, 8, 14, 14]     0          False     \n",
      "______________________________________________________________________\n",
      "BatchNorm2d          [128, 8, 14, 14]     16         True      \n",
      "______________________________________________________________________\n",
      "Conv2d               [128, 8, 14, 14]     576        True      \n",
      "______________________________________________________________________\n",
      "ReLU                 [128, 8, 14, 14]     0          False     \n",
      "______________________________________________________________________\n",
      "BatchNorm2d          [128, 8, 14, 14]     16         True      \n",
      "______________________________________________________________________\n",
      "MergeLayer           [128, 8, 14, 14]     0          False     \n",
      "______________________________________________________________________\n",
      "Conv2d               [128, 16, 7, 7]      1152       True      \n",
      "______________________________________________________________________\n",
      "ReLU                 [128, 16, 7, 7]      0          False     \n",
      "______________________________________________________________________\n",
      "BatchNorm2d          [128, 16, 7, 7]      32         True      \n",
      "______________________________________________________________________\n",
      "Conv2d               [128, 16, 7, 7]      2304       True      \n",
      "______________________________________________________________________\n",
      "ReLU                 [128, 16, 7, 7]      0          False     \n",
      "______________________________________________________________________\n",
      "BatchNorm2d          [128, 16, 7, 7]      32         True      \n",
      "______________________________________________________________________\n",
      "Conv2d               [128, 16, 7, 7]      2304       True      \n",
      "______________________________________________________________________\n",
      "ReLU                 [128, 16, 7, 7]      0          False     \n",
      "______________________________________________________________________\n",
      "BatchNorm2d          [128, 16, 7, 7]      32         True      \n",
      "______________________________________________________________________\n",
      "MergeLayer           [128, 16, 7, 7]      0          False     \n",
      "______________________________________________________________________\n",
      "Conv2d               [128, 32, 4, 4]      4608       True      \n",
      "______________________________________________________________________\n",
      "ReLU                 [128, 32, 4, 4]      0          False     \n",
      "______________________________________________________________________\n",
      "BatchNorm2d          [128, 32, 4, 4]      64         True      \n",
      "______________________________________________________________________\n",
      "Conv2d               [128, 32, 4, 4]      9216       True      \n",
      "______________________________________________________________________\n",
      "ReLU                 [128, 32, 4, 4]      0          False     \n",
      "______________________________________________________________________\n",
      "BatchNorm2d          [128, 32, 4, 4]      64         True      \n",
      "______________________________________________________________________\n",
      "Conv2d               [128, 32, 4, 4]      9216       True      \n",
      "______________________________________________________________________\n",
      "ReLU                 [128, 32, 4, 4]      0          False     \n",
      "______________________________________________________________________\n",
      "BatchNorm2d          [128, 32, 4, 4]      64         True      \n",
      "______________________________________________________________________\n",
      "MergeLayer           [128, 32, 4, 4]      0          False     \n",
      "______________________________________________________________________\n",
      "Conv2d               [128, 16, 2, 2]      4608       True      \n",
      "______________________________________________________________________\n",
      "ReLU                 [128, 16, 2, 2]      0          False     \n",
      "______________________________________________________________________\n",
      "BatchNorm2d          [128, 16, 2, 2]      32         True      \n",
      "______________________________________________________________________\n",
      "Conv2d               [128, 16, 2, 2]      2304       True      \n",
      "______________________________________________________________________\n",
      "ReLU                 [128, 16, 2, 2]      0          False     \n",
      "______________________________________________________________________\n",
      "BatchNorm2d          [128, 16, 2, 2]      32         True      \n",
      "______________________________________________________________________\n",
      "Conv2d               [128, 16, 2, 2]      2304       True      \n",
      "______________________________________________________________________\n",
      "ReLU                 [128, 16, 2, 2]      0          False     \n",
      "______________________________________________________________________\n",
      "BatchNorm2d          [128, 16, 2, 2]      32         True      \n",
      "______________________________________________________________________\n",
      "MergeLayer           [128, 16, 2, 2]      0          False     \n",
      "______________________________________________________________________\n",
      "Conv2d               [128, 10, 1, 1]      1440       True      \n",
      "______________________________________________________________________\n",
      "ReLU                 [128, 10, 1, 1]      0          False     \n",
      "______________________________________________________________________\n",
      "BatchNorm2d          [128, 10, 1, 1]      20         True      \n",
      "______________________________________________________________________\n",
      "Flatten              [128, 10]            0          False     \n",
      "______________________________________________________________________\n",
      "\n",
      "Total params: 41132\n",
      "Total trainable params: 41132\n",
      "Total non-trainable params: 0\n",
      "\n"
     ]
    }
   ],
   "source": [
    "print(learn.summary())"
   ]
  },
  {
   "cell_type": "markdown",
   "metadata": {},
   "source": [
    "## fin"
   ]
  },
  {
   "cell_type": "code",
   "execution_count": null,
   "metadata": {},
   "outputs": [],
   "source": []
  }
 ],
 "metadata": {
  "kernelspec": {
   "display_name": "Python 3",
   "language": "python",
   "name": "python3"
  }
 },
 "nbformat": 4,
 "nbformat_minor": 1
}