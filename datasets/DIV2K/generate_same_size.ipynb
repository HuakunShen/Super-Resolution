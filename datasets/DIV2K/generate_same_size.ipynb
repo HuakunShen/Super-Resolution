{
 "metadata": {
  "language_info": {
   "codemirror_mode": {
    "name": "ipython",
    "version": 3
   },
   "file_extension": ".py",
   "mimetype": "text/x-python",
   "name": "python",
   "nbconvert_exporter": "python",
   "pygments_lexer": "ipython3",
   "version": "3.8.3-final"
  },
  "orig_nbformat": 2,
  "kernelspec": {
   "name": "python38364bitbasecondae614ac61c3a74735a88fa4ee5d544264",
   "display_name": "Python 3.8.3 64-bit ('base': conda)"
  }
 },
 "nbformat": 4,
 "nbformat_minor": 2,
 "cells": [
  {
   "source": [
    "# Preprocess Dataset/Generate Dataset"
   ],
   "cell_type": "markdown",
   "metadata": {}
  },
  {
   "cell_type": "code",
   "execution_count": 1,
   "metadata": {},
   "outputs": [],
   "source": [
    "import os\n",
    "import torch\n",
    "import pathlib\n",
    "import shutil\n",
    "import numpy as np\n",
    "from tqdm import tqdm\n",
    "import PIL\n",
    "from fastai.vision import *\n",
    "from torchvision import transforms"
   ]
  },
  {
   "cell_type": "code",
   "execution_count": 2,
   "metadata": {},
   "outputs": [],
   "source": [
    "# TODO: constants to be changed\n",
    "num_extra = 2\n",
    "# final image size will be target_size\n",
    "target_size = 300\n",
    "# procedure: resize to the following sizes and resize back to target_size\n",
    "sizes = [300, 200, 150, 100, 50]"
   ]
  },
  {
   "cell_type": "code",
   "execution_count": 3,
   "metadata": {},
   "outputs": [],
   "source": [
    "DIV2K_path = pathlib.Path('.').parent.absolute()\n",
    "train_HR = DIV2K_path/'DIV2K_train_HR'\n",
    "valid_HR = DIV2K_path/'DIV2K_valid_HR'\n",
    "assert DIV2K_path.exists() and train_HR.exists() and valid_HR.exists()"
   ]
  },
  {
   "cell_type": "code",
   "execution_count": 4,
   "metadata": {},
   "outputs": [],
   "source": [
    "output_path = DIV2K_path/'same_300'\n",
    "if output_path.exists():\n",
    "    shutil.rmtree(output_path)\n",
    "output_path.mkdir(parents=True, exist_ok=True)"
   ]
  },
  {
   "source": [
    "## Generate Center Cropped & Transformed Images"
   ],
   "cell_type": "markdown",
   "metadata": {}
  },
  {
   "cell_type": "code",
   "execution_count": 5,
   "metadata": {},
   "outputs": [
    {
     "output_type": "stream",
     "name": "stdout",
     "text": [
      "min dimension of all training images=648\nmin dimension of all validation images=816\n"
     ]
    }
   ],
   "source": [
    "hr_valid_image_list = ImageList.from_folder(valid_HR)\n",
    "hr_train_image_list = ImageList.from_folder(train_HR)\n",
    "hr_train_image_name_list = [img_path.relative_to(train_HR) for img_path in hr_train_image_list.items]\n",
    "shapes = [PIL.Image.open(img_path).size for img_path in hr_train_image_list.items]\n",
    "print(f\"min dimension of all training images={torch.min(torch.tensor(shapes))}\")\n",
    "hr_valid_image_name_list = [img_path.relative_to(valid_HR) for img_path in hr_valid_image_list.items]\n",
    "shapes = [PIL.Image.open(img_path).size for img_path in hr_valid_image_list.items]\n",
    "print(f\"min dimension of all validation images={torch.min(torch.tensor(shapes))}\")"
   ]
  },
  {
   "cell_type": "code",
   "execution_count": 6,
   "metadata": {},
   "outputs": [],
   "source": [
    "class ImageAugmentor(object):\n",
    "    def __init__(self, dest_dir, num_extra:int=2):\n",
    "        assert num_extra <= 5\n",
    "        self.num_extra = num_extra\n",
    "        self.dest_dir = dest_dir\n",
    "        self.base_image, self.image_name, self.filename_no_ext, self.ext = None, None, None, None\n",
    "        self.generated_images, self.generated_image_names = [], []\n",
    "\n",
    "    def generate(self):\n",
    "        random_choices = np.random.choice(a=[1, 2, 3, 4, 5], replace=False, size=self.num_extra)\n",
    "        for choice in random_choices:\n",
    "            if choice == 1:\n",
    "                self.generated_images.append(transforms.functional.hflip(self.base_image))\n",
    "                self.generated_image_names.append(self.filename_no_ext + '-hf' + self.ext)\n",
    "            elif choice == 2:\n",
    "                self.generated_images.append(transforms.functional.vflip(self.base_image))\n",
    "                self.generated_image_names.append(self.filename_no_ext + '-vf' + self.ext)\n",
    "            elif choice == 3:\n",
    "                self.generated_images.append(transforms.functional.rotate(self.base_image, 90))\n",
    "                self.generated_image_names.append(self.filename_no_ext + '-r90' + self.ext)\n",
    "            elif choice == 4:\n",
    "                self.generated_images.append(transforms.functional.rotate(self.base_image, 180))\n",
    "                self.generated_image_names.append(self.filename_no_ext + '-r180' + self.ext)\n",
    "            elif choice == 5:\n",
    "                self.generated_images.append(transforms.functional.rotate(self.base_image, 270))\n",
    "                self.generated_image_names.append(self.filename_no_ext + '-r270' + self.ext)\n",
    "\n",
    "    def save(self):\n",
    "        for i in range(len(self.generated_image_names)):\n",
    "            output_path = self.dest_dir/self.generated_image_names[i]\n",
    "            self.generated_images[i].save(output_path)\n",
    "\n",
    "    def __call__(self, image_path, i):\n",
    "        self.image_name = os.path.basename(image_path)\n",
    "        self.filename_no_ext, self.ext = os.path.splitext(self.image_name)\n",
    "        image = PIL.Image.open(image_path)\n",
    "        self.base_image = transforms.Compose([transforms.CenterCrop(min(image.size))])(image)\n",
    "        image.close()\n",
    "        self.generated_images = [self.base_image]\n",
    "        self.generated_image_names = [self.image_name]\n",
    "        self.generate()\n",
    "        self.save()\n"
   ]
  },
  {
   "cell_type": "code",
   "execution_count": 7,
   "metadata": {},
   "outputs": [],
   "source": [
    "# create center cropped & transformed image directory\n",
    "# cct stands for center-crop-transform\n",
    "cct_train = output_path/'train_cct'\n",
    "cct_valid = output_path/'valid_cct'\n",
    "for path in [cct_train, cct_valid]:\n",
    "    if not path.exists():\n",
    "        path.mkdir(parents=True, exist_ok=True)"
   ]
  },
  {
   "cell_type": "code",
   "execution_count": 8,
   "metadata": {},
   "outputs": [
    {
     "output_type": "display_data",
     "data": {
      "text/plain": "<IPython.core.display.HTML object>",
      "text/html": "\n    <div>\n        <style>\n            /* Turns off some styling */\n            progress {\n                /* gets rid of default border in Firefox and Opera. */\n                border: none;\n                /* Needs to be in here for Safari polyfill so background images work as expected. */\n                background-size: auto;\n            }\n            .progress-bar-interrupted, .progress-bar-interrupted::-webkit-progress-bar {\n                background: #F44336;\n            }\n        </style>\n      <progress value='0' class='' max='100' style='width:300px; height:20px; vertical-align: middle;'></progress>\n      \n    </div>\n    "
     },
     "metadata": {}
    },
    {
     "output_type": "display_data",
     "data": {
      "text/plain": "<IPython.core.display.HTML object>",
      "text/html": ""
     },
     "metadata": {}
    }
   ],
   "source": [
    "%%time\n",
    "# transform and save images\n",
    "parallel(ImageAugmentor(cct_valid, num_extra=0), hr_valid_image_list.items)\n",
    "parallel(ImageAugmentor(cct_train, num_extra=num_extra), hr_train_image_list.items)"
   ]
  },
  {
   "source": [
    "## Generate All Other Size Images"
   ],
   "cell_type": "markdown",
   "metadata": {}
  },
  {
   "cell_type": "code",
   "execution_count": 9,
   "metadata": {},
   "outputs": [],
   "source": [
    "class Resizer(object):\n",
    "    def __init__(self, src_path, dest_path, size:int, target_size:int):\n",
    "        self.src_path = src_path\n",
    "        self.dest_path = dest_path\n",
    "        self.size = size\n",
    "        self.target_size = target_size\n",
    "\n",
    "    def __call__(self, image_name, i):\n",
    "        src_image_path = self.src_path/image_name\n",
    "        target_image_path = self.dest_path/image_name\n",
    "        src_img = PIL.Image.open(src_image_path)\n",
    "        resized_image = src_img.resize((self.size, self.size), resample=PIL.Image.BICUBIC).convert('RGB').resize((self.target_size, self.target_size), resample=PIL.Image.BICUBIC).convert('RGB')\n",
    "        src_img.close()\n",
    "        resized_image.save(target_image_path)"
   ]
  },
  {
   "cell_type": "code",
   "execution_count": 10,
   "metadata": {},
   "outputs": [],
   "source": [
    "cct_valid_list = ImageList.from_folder(cct_valid)\n",
    "cct_valid_names = [img_path.relative_to(cct_valid) for img_path in cct_valid_list.items]\n",
    "cct_train_list = ImageList.from_folder(cct_train)\n",
    "cct_train_names = [img_path.relative_to(cct_train) for img_path in cct_train_list.items]"
   ]
  },
  {
   "cell_type": "code",
   "execution_count": 11,
   "metadata": {},
   "outputs": [
    {
     "output_type": "stream",
     "name": "stderr",
     "text": [
      "  0%|          | 0/5 [00:00<?, ?it/s]\n",
      "\n",
      "size=300\n"
     ]
    },
    {
     "output_type": "display_data",
     "data": {
      "text/plain": "<IPython.core.display.HTML object>",
      "text/html": "\n    <div>\n        <style>\n            /* Turns off some styling */\n            progress {\n                /* gets rid of default border in Firefox and Opera. */\n                border: none;\n                /* Needs to be in here for Safari polyfill so background images work as expected. */\n                background-size: auto;\n            }\n            .progress-bar-interrupted, .progress-bar-interrupted::-webkit-progress-bar {\n                background: #F44336;\n            }\n        </style>\n      <progress value='0' class='' max='2400' style='width:300px; height:20px; vertical-align: middle;'></progress>\n      \n    </div>\n    "
     },
     "metadata": {}
    },
    {
     "output_type": "display_data",
     "data": {
      "text/plain": "<IPython.core.display.HTML object>",
      "text/html": "\n    <div>\n        <style>\n            /* Turns off some styling */\n            progress {\n                /* gets rid of default border in Firefox and Opera. */\n                border: none;\n                /* Needs to be in here for Safari polyfill so background images work as expected. */\n                background-size: auto;\n            }\n            .progress-bar-interrupted, .progress-bar-interrupted::-webkit-progress-bar {\n                background: #F44336;\n            }\n        </style>\n      <progress value='0' class='' max='100' style='width:300px; height:20px; vertical-align: middle;'></progress>\n      \n    </div>\n    "
     },
     "metadata": {}
    },
    {
     "output_type": "stream",
     "name": "stderr",
     "text": [
      " 20%|██        | 1/5 [00:32<02:10, 32.55s/it]\n",
      "\n",
      "size=200\n"
     ]
    },
    {
     "output_type": "display_data",
     "data": {
      "text/plain": "<IPython.core.display.HTML object>",
      "text/html": "\n    <div>\n        <style>\n            /* Turns off some styling */\n            progress {\n                /* gets rid of default border in Firefox and Opera. */\n                border: none;\n                /* Needs to be in here for Safari polyfill so background images work as expected. */\n                background-size: auto;\n            }\n            .progress-bar-interrupted, .progress-bar-interrupted::-webkit-progress-bar {\n                background: #F44336;\n            }\n        </style>\n      <progress value='0' class='' max='2400' style='width:300px; height:20px; vertical-align: middle;'></progress>\n      \n    </div>\n    "
     },
     "metadata": {}
    },
    {
     "output_type": "display_data",
     "data": {
      "text/plain": "<IPython.core.display.HTML object>",
      "text/html": "\n    <div>\n        <style>\n            /* Turns off some styling */\n            progress {\n                /* gets rid of default border in Firefox and Opera. */\n                border: none;\n                /* Needs to be in here for Safari polyfill so background images work as expected. */\n                background-size: auto;\n            }\n            .progress-bar-interrupted, .progress-bar-interrupted::-webkit-progress-bar {\n                background: #F44336;\n            }\n        </style>\n      <progress value='0' class='' max='100' style='width:300px; height:20px; vertical-align: middle;'></progress>\n      \n    </div>\n    "
     },
     "metadata": {}
    },
    {
     "output_type": "stream",
     "name": "stderr",
     "text": [
      " 40%|████      | 2/5 [01:04<01:36, 32.33s/it]\n",
      "\n",
      "size=150\n"
     ]
    },
    {
     "output_type": "display_data",
     "data": {
      "text/plain": "<IPython.core.display.HTML object>",
      "text/html": "\n    <div>\n        <style>\n            /* Turns off some styling */\n            progress {\n                /* gets rid of default border in Firefox and Opera. */\n                border: none;\n                /* Needs to be in here for Safari polyfill so background images work as expected. */\n                background-size: auto;\n            }\n            .progress-bar-interrupted, .progress-bar-interrupted::-webkit-progress-bar {\n                background: #F44336;\n            }\n        </style>\n      <progress value='0' class='' max='2400' style='width:300px; height:20px; vertical-align: middle;'></progress>\n      \n    </div>\n    "
     },
     "metadata": {}
    },
    {
     "output_type": "display_data",
     "data": {
      "text/plain": "<IPython.core.display.HTML object>",
      "text/html": "\n    <div>\n        <style>\n            /* Turns off some styling */\n            progress {\n                /* gets rid of default border in Firefox and Opera. */\n                border: none;\n                /* Needs to be in here for Safari polyfill so background images work as expected. */\n                background-size: auto;\n            }\n            .progress-bar-interrupted, .progress-bar-interrupted::-webkit-progress-bar {\n                background: #F44336;\n            }\n        </style>\n      <progress value='0' class='' max='100' style='width:300px; height:20px; vertical-align: middle;'></progress>\n      \n    </div>\n    "
     },
     "metadata": {}
    },
    {
     "output_type": "stream",
     "name": "stderr",
     "text": [
      " 60%|██████    | 3/5 [01:34<01:03, 31.58s/it]\n",
      "\n",
      "size=100\n"
     ]
    },
    {
     "output_type": "display_data",
     "data": {
      "text/plain": "<IPython.core.display.HTML object>",
      "text/html": "\n    <div>\n        <style>\n            /* Turns off some styling */\n            progress {\n                /* gets rid of default border in Firefox and Opera. */\n                border: none;\n                /* Needs to be in here for Safari polyfill so background images work as expected. */\n                background-size: auto;\n            }\n            .progress-bar-interrupted, .progress-bar-interrupted::-webkit-progress-bar {\n                background: #F44336;\n            }\n        </style>\n      <progress value='0' class='' max='2400' style='width:300px; height:20px; vertical-align: middle;'></progress>\n      \n    </div>\n    "
     },
     "metadata": {}
    },
    {
     "output_type": "display_data",
     "data": {
      "text/plain": "<IPython.core.display.HTML object>",
      "text/html": "\n    <div>\n        <style>\n            /* Turns off some styling */\n            progress {\n                /* gets rid of default border in Firefox and Opera. */\n                border: none;\n                /* Needs to be in here for Safari polyfill so background images work as expected. */\n                background-size: auto;\n            }\n            .progress-bar-interrupted, .progress-bar-interrupted::-webkit-progress-bar {\n                background: #F44336;\n            }\n        </style>\n      <progress value='0' class='' max='100' style='width:300px; height:20px; vertical-align: middle;'></progress>\n      \n    </div>\n    "
     },
     "metadata": {}
    },
    {
     "output_type": "stream",
     "name": "stderr",
     "text": [
      " 80%|████████  | 4/5 [02:03<00:30, 30.84s/it]\n",
      "\n",
      "size=50\n"
     ]
    },
    {
     "output_type": "display_data",
     "data": {
      "text/plain": "<IPython.core.display.HTML object>",
      "text/html": "\n    <div>\n        <style>\n            /* Turns off some styling */\n            progress {\n                /* gets rid of default border in Firefox and Opera. */\n                border: none;\n                /* Needs to be in here for Safari polyfill so background images work as expected. */\n                background-size: auto;\n            }\n            .progress-bar-interrupted, .progress-bar-interrupted::-webkit-progress-bar {\n                background: #F44336;\n            }\n        </style>\n      <progress value='0' class='' max='2400' style='width:300px; height:20px; vertical-align: middle;'></progress>\n      \n    </div>\n    "
     },
     "metadata": {}
    },
    {
     "output_type": "display_data",
     "data": {
      "text/plain": "<IPython.core.display.HTML object>",
      "text/html": ""
     },
     "metadata": {}
    }
   ],
   "source": [
    "%%time\n",
    "for size in tqdm(sizes):\n",
    "    print(f\"\\n\\nsize={size}\")\n",
    "    sub_out_train = output_path/f'train_{size}'\n",
    "    sub_out_valid = output_path/f'valid_{size}'\n",
    "    if not sub_out_train.exists():\n",
    "        sub_out_train.mkdir(parents=True, exist_ok=True)\n",
    "    if not sub_out_valid.exists():\n",
    "        sub_out_valid.mkdir(parents=True, exist_ok=True)\n",
    "    parallel(Resizer(cct_train, sub_out_train, size, target_size), cct_train_names)\n",
    "    parallel(Resizer(cct_valid, sub_out_valid, size, target_size), cct_valid_names)\n",
    "print(\"\\n\")"
   ]
  },
  {
   "cell_type": "code",
   "execution_count": 12,
   "metadata": {},
   "outputs": [],
   "source": [
    "# clean the super-large but unecessary cct_valid and cct_train images (they are for generating other images, not useful anymore)\n",
    "shutil.rmtree(cct_valid) \n",
    "shutil.rmtree(cct_train) "
   ]
  },
  {
   "cell_type": "code",
   "execution_count": null,
   "metadata": {},
   "outputs": [],
   "source": []
  }
 ]
}