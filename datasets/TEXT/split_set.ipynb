{
 "metadata": {
  "language_info": {
   "codemirror_mode": {
    "name": "ipython",
    "version": 3
   },
   "file_extension": ".py",
   "mimetype": "text/x-python",
   "name": "python",
   "nbconvert_exporter": "python",
   "pygments_lexer": "ipython3",
   "version": "3.8.5-final"
  },
  "orig_nbformat": 2,
  "kernelspec": {
   "name": "python3",
   "display_name": "Python 3",
   "language": "python"
  }
 },
 "nbformat": 4,
 "nbformat_minor": 2,
 "cells": [
  {
   "cell_type": "code",
   "execution_count": 9,
   "metadata": {},
   "outputs": [],
   "source": [
    "import os\n",
    "import re\n",
    "import cv2\n",
    "import PIL\n",
    "import shutil\n",
    "import pathlib\n",
    "from PIL import Image\n",
    "from fastai.vision import *\n",
    "from torchvision import transforms"
   ]
  },
  {
   "cell_type": "code",
   "execution_count": 2,
   "metadata": {},
   "outputs": [],
   "source": [
    "\n",
    "TEXT_DATASET_PATH = pathlib.Path('.').absolute()\n",
    "TEXT_DATASET_SRC_DIFF_PATH = TEXT_DATASET_PATH/'src'/'diff'\n",
    "TEXT_DATASET_DIFF_PATH = TEXT_DATASET_PATH/'diff'"
   ]
  },
  {
   "cell_type": "code",
   "execution_count": 3,
   "metadata": {},
   "outputs": [
    {
     "output_type": "execute_result",
     "data": {
      "text/plain": [
       "['Resize50x50',\n",
       " 'Resize150x150',\n",
       " 'BlurRadius5',\n",
       " 'Resize75x75',\n",
       " 'Resize25x25',\n",
       " 'Target300x300',\n",
       " 'BlurRadius7',\n",
       " 'BlurRadius3',\n",
       " 'Resize100x100']"
      ]
     },
     "metadata": {},
     "execution_count": 3
    }
   ],
   "source": [
    "all_folders = os.listdir(TEXT_DATASET_SRC_DIFF_PATH)\n",
    "all_folders"
   ]
  },
  {
   "source": [
    "# Split into Training and Test Set"
   ],
   "cell_type": "markdown",
   "metadata": {}
  },
  {
   "cell_type": "code",
   "execution_count": 4,
   "metadata": {},
   "outputs": [],
   "source": [
    "def get_image_names(image_list):\n",
    "    return sorted([os.path.basename(item) for item in image_list.items], key=lambda x: int(re.findall('(\\d+)\\.bmp', x)[0]))"
   ]
  },
  {
   "cell_type": "code",
   "execution_count": 5,
   "metadata": {},
   "outputs": [],
   "source": [
    "train_ratio = 0.9"
   ]
  },
  {
   "cell_type": "code",
   "execution_count": 6,
   "metadata": {},
   "outputs": [],
   "source": [
    "image_list_ = ImageList.from_folder(TEXT_DATASET_SRC_DIFF_PATH/all_folders[0])\n",
    "image_names = get_image_names(image_list_)\n",
    "num_train = int(len(image_names) * train_ratio)\n",
    "num_test = len(image_names) - num_train\n",
    "train_image_names = image_names[:num_train]\n",
    "test_image_names = image_names[num_train:]"
   ]
  },
  {
   "cell_type": "code",
   "execution_count": 21,
   "metadata": {},
   "outputs": [
    {
     "output_type": "execute_result",
     "data": {
      "text/plain": [
       "torch.Size([1, 300, 300])"
      ]
     },
     "metadata": {},
     "execution_count": 21
    }
   ],
   "source": [
    "transforms.ToTensor()(PIL.Image.open('/home/hacker/Documents/Super-Resolution/datasets/TEXT/same/train_Target300x300/2.bmp')).shape"
   ]
  },
  {
   "cell_type": "code",
   "execution_count": 22,
   "metadata": {},
   "outputs": [
    {
     "output_type": "execute_result",
     "data": {
      "text/plain": [
       "torch.Size([1, 300, 300])"
      ]
     },
     "metadata": {},
     "execution_count": 22
    }
   ],
   "source": [
    "transforms.ToTensor()(PIL.Image.open('/home/hacker/Documents/Super-Resolution/datasets/TEXT/same/train_Resize150x150/2.bmp')).shape"
   ]
  },
  {
   "cell_type": "code",
   "execution_count": 30,
   "metadata": {},
   "outputs": [],
   "source": [
    "for folder in all_folders:\n",
    "    src_path = TEXT_DATASET_SRC_DIFF_PATH/folder\n",
    "    train_path = TEXT_DATASET_DIFF_PATH/f\"train_{folder}\"\n",
    "    # the folder will be named as valid_* although it's actually for test images due to some existing code\n",
    "    test_path = TEXT_DATASET_DIFF_PATH/f\"valid_{folder}\"\n",
    "    train_path.mkdir(parents=True, exist_ok=True)\n",
    "    test_path.mkdir(parents=True, exist_ok=True)\n",
    "    for image_name in train_image_names:\n",
    "        shutil.copyfile(src_path/image_name, train_path/image_name)\n",
    "    for image_name in test_image_names:\n",
    "        shutil.copyfile(src_path/image_name, test_path/image_name)   "
   ]
  },
  {
   "cell_type": "code",
   "execution_count": null,
   "metadata": {},
   "outputs": [],
   "source": []
  }
 ]
}